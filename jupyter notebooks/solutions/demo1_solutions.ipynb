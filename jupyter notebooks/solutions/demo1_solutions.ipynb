{
 "cells": [
  {
   "cell_type": "markdown",
   "metadata": {},
   "source": [
    "# Demonstration 1 - IFT 3700\n",
    "\n",
    "### Topics covered :\n",
    "\n",
    "- How the demonstrations work\n",
    "- Presentation of the \"Jupyter Notebook\" format\n",
    "- Cognitive bias:\n",
    "  1. Multiple comparisons problem\n",
    "  \n",
    "  - Review of p-values\n",
    "  - Bonferroni correction\n",
    "  \n",
    "  2. Regression to the mean\n",
    "  3. Bayes' Theorem\n",
    "- Presentation of the MNIST dataset\n",
    "- Implementation of a classification method : \"Naive Bayesian Classification\"\n",
    "\n",
    "## Theoretical part:\n",
    "\n",
    "### Multiple comparisons problem\n",
    "\n",
    "**P value:** Probability that we would observe the same result if our hypothesis was wrong. In other words, we believe we are seeing a significant result when it was actually just chance This amounts to a Type 1 error. We obviously want to avoid making these mistakes.\n",
    "\n",
    "In summary: small value p $\\implies$ greater certainty of the veracity of our results.\n",
    "\n",
    "The multiple comparisons problem arises when we test a **set** of hypotheses with a certain p-value. As an example, let's take a scenario where we test 30 hypotheses with a p-value of 0.05, or 5%. Let's assume that **every single one of our hypotheses is wrong**. What is the probability of observing at least one significant outcome by chance?\n",
    "\n",
    "The probability that we have at least one significant result is the complement of the probability of observing none.\n",
    "\n",
    "We have:\n",
    "\n",
    "$$P(at\\ least\\ one\\ significant\\ result) = 1 - P(no\\ significant\\ result) $$\n",
    "\n",
    "$$= 1 - (0.95)^{30}$$\n",
    "\n",
    "$$\\approx 79%$$\n",
    "\n",
    "So we see that it is very likely that we would get a significant result that would cause us to make a type 1 error.\n",
    "\n",
    "*How can we solve this problem?*\n",
    "\n",
    "### Bonferroni correction\n",
    "\n",
    "The Bonferroni correction corrects this problem in a fairly simple way by dividing the p-value by the number of hypotheses we want to posit:\n",
    "\n",
    "Let $n$ be the number of hypotheses, our p-value becomes $\\frac{\\alpha}{n}$ where $\\alpha$ was our original p-value.\n",
    "\n",
    "We now notice that our original calculation is adjusted:\n",
    "\n",
    "$$P(at\\ least\\ one\\ significant\\ result) = 1 - P(no\\ significant\\ result) $$\n",
    "\n",
    "$$ = 1 - (1 - \\frac{\\alpha}{n})^{30}$$\n",
    "\n",
    "$$= 1 - (1 - \\frac{0.05}{30})^{30}$$\n",
    "\n",
    "$$\\approx 1 - (1 - 0.00167)^{30}$$\n",
    "\n",
    "$$\\approx 1 - 0.9512$$\n",
    "\n",
    "$$\\approx 5%$$\n",
    "\n",
    "However, this correction takes into account that all hypothesis tests are *independent*. If there is a positive correlation between them, the Bonferroni correction will result in an **overly conservative**p-value. This will result in Type 2 errors, i.e. rejecting a significant result when it is **valid**.\n",
    "\n",
    "Other more common and effective approaches exist to eliminate this problem, such as the Holm-Bonferroni method and Sidak correction. They are much less naive and more interesting. I invite you to take a look at them if you're interested.\n",
    "\n",
    "### Regression toward the mean\n",
    "\n",
    "In summary, it is the principle that if the value of a variable seems extreme during an initial test, it will probably be closer to the mean in the second test. This may lead us to erroneous conclusions.\n",
    "\n",
    "The classic example is to take a class of students and have them randomly answer a test composed of 100 true or false questions, *while* *taking* *into* *account that there is no negative correction ;)*. We obviously expect the class average to be 50%. However, some students will be lucky and will have above-average grades and vice versa for the unlucky students. In short, we will have an approximately normal distribution of scores with 50% as an overall average.\n",
    "\n",
    "If we repeat the experiment with the students who were lucky in the first exam, we will obtain a new normal distribution centered at 50%. Same scenario for the students who were less fortunate on the first test.\n",
    "\n",
    "This gives the illusion that students who scored poorly on the first exam improved on the second and that students who scored well on the first exam did not study enough on the second. However, we know very well that this is not the case, since all students answer randomly!\n",
    "\n",
    "This is called regression toward the mean. Obviously, the previous example is very unrealistic. In real life, these are often scenarios where several factors affect a certain outcome, not just luck. This is what leads us to form hypotheses to explain certain trends.\n",
    "\n",
    "In short, it must be realized that the \"natural tendency\" of regression toward the mean can sometimes fully explain results when one could make erroneous assumptions to explain them.\n",
    "\n",
    "I recommend that you watch a very good and fairly popular video that deals with an instance of this cognitive bias, a study that tried to determine whether positive or negative reinforcement was more effective in the training of Israeli military fighter pilots:\n",
    "\n",
    "https://www.youtube.com/watch?v=1tSqSMOyNFE\n",
    "\n",
    "### Bayes' Theorem\n",
    "\n",
    "As discussed during the course with the example of a medical test for a relatively rare disease that sometimes gives false positives, Bayes' theorem is used to calculate **conditional probabilities**.\n",
    "\n",
    "The formula is as follows:\n",
    "\n",
    "$$P(A|B) = \\frac{P(B|A) \\cdot P(A)}{P(B)}$$\n",
    "\n",
    "This formula can be obtained by combining two instances of the definition of conditional probability:\n",
    "\n",
    "$$P(A|B) = \\frac{P(A \\cap B)}{P(B)}$$\n",
    "\n",
    "Likewise,\n",
    "\n",
    "$$P(B|A) = \\frac{P(B \\cap A)}{P(A)}$$\n",
    "\n",
    "Since $P(B \\cap A) = P(A \\cap B)$,\n",
    "\n",
    "$$P(A|B)\\cdot P(B) = P(B|A)\\cdot P(A)$$\n",
    "\n",
    "Finally, dividing the two sides by $P(B)$ gives us:\n",
    "\n",
    "$$P(A|B) = \\frac{P(B|A) \\cdot P(A)}{P(B)}$$"
   ]
  },
  {
   "cell_type": "markdown",
   "metadata": {},
   "source": [
    "## Practical part :\n",
    "\n",
    "We can already dive into the practical side now that we know Bayes' Theorem. We can implement the naive Bayes classifier using the MNIST dataset. To do so, it would be advantageous to be comfortable with Jupyter and Python 3. See the tutorials below if you are not familiar with this environment:\n",
    "\n",
    "https://jupyter-notebook-beginner-guide.readthedocs.io/en/latest/what_is_jupyter.html\n",
    "\n",
    "https://docs.python.org/3/tutorial/index.html\n",
    "\n",
    "# WARNING:\n",
    "\n",
    "**The following exercice can be completed in full by following the document below (pages 1 to 8). If you want to complete the entire implementation by yourself (recommended), do not read the rest of this notebook. However, my biased opinion is that this notebook is much clearer and more intuitive than this document. If you want to be guided, you can follow the steps described in the rest of the notebook. A version of the notebook with the missing code will also be published on the website. If you choose to do this on your own, don't forget to go back to the notebook and read the \"Conclusion\" section.**\n",
    "\n",
    "http://www-inst.eecs.berkeley.edu/~cs70/sp15/notes/n21.pdf\n",
    "\n",
    "Let's first look at how to use the MNIST dataset for this exercise."
   ]
  },
  {
   "cell_type": "markdown",
   "metadata": {},
   "source": [
    "### MNIST dataset\n",
    "\n",
    "The MNIST dataset is a large database of images of handwritten numbers. These images are $28 \\times $28 pixels in size. The full dataset consists of 70,000 images, along with their respective labels. \n",
    "\n",
    "Since there are $28 \\times 28 = $784 pixels in the image, we have a total of 785 columns including the label. Each piece of data is actually a vector of 784 dimensions composed of integers ranging from 0 to 255 for each dimension, as well as the label of that data. These numbers represent the intensity of a grayscale pixel, with 0 being the black end of the scale and 255 being the white end.\n",
    "\n",
    "### Downloading MNIST in Google Colab\n",
    "\n",
    "To make use of the MNIST dataset, we will download it using the `sklearn` library's `datasets` package. This package features helpers to download many datasets commonly used by the machine learning community. If you wish to learn more, please consult [their documentation](https://scikit-learn.org/stable/datasets/index.html). For now, we will use this package to download the MNIST dataset by running the following cell. This will take several minutes. "
   ]
  },
  {
   "cell_type": "code",
   "execution_count": 1,
   "metadata": {},
   "outputs": [
    {
     "name": "stdout",
     "output_type": "stream",
     "text": [
      "data :  [  0.   0.   0.   0.   0.   0.   0.   0.   0.   0.   0.   0.   0.   0.\n",
      "   0.   0.   0.   0.   0.   0.   0.   0.   0.   0.   0.   0.   0.   0.\n",
      "   0.   0.   0.   0.   0.   0.   0.   0.   0.   0.   0.   0.   0.   0.\n",
      "   0.   0.   0.   0.   0.   0.   0.   0.   0.   0.   0.   0.   0.   0.\n",
      "   0.   0.   0.   0.   0.   0.   0.   0.   0.   0.   0.   0.   0.   0.\n",
      "   0.   0.   0.   0.   0.   0.   0.   0.   0.   0.   0.   0.   0.   0.\n",
      "   0.   0.   0.   0.   0.   0.   0.   0.   0.   0.   0.   0.   0.   0.\n",
      "   0.   0.   0.   0.   0.   0.   0.   0.   0.   0.   0.   0.   0.   0.\n",
      "   0.   0.   0.   0.   0.   0.   0.   0.   0.   0.   0.   0.   0.   0.\n",
      "   0.   0.   0.   0.   0.   0.   0.   0.   0.   0.   0.   0.   0.   0.\n",
      "   0.   0.   0.   0.   0.   0.   0.   0.   0.   0.   0.   0.   3.  18.\n",
      "  18.  18. 126. 136. 175.  26. 166. 255. 247. 127.   0.   0.   0.   0.\n",
      "   0.   0.   0.   0.   0.   0.   0.   0.  30.  36.  94. 154. 170. 253.\n",
      " 253. 253. 253. 253. 225. 172. 253. 242. 195.  64.   0.   0.   0.   0.\n",
      "   0.   0.   0.   0.   0.   0.   0.  49. 238. 253. 253. 253. 253. 253.\n",
      " 253. 253. 253. 251.  93.  82.  82.  56.  39.   0.   0.   0.   0.   0.\n",
      "   0.   0.   0.   0.   0.   0.   0.  18. 219. 253. 253. 253. 253. 253.\n",
      " 198. 182. 247. 241.   0.   0.   0.   0.   0.   0.   0.   0.   0.   0.\n",
      "   0.   0.   0.   0.   0.   0.   0.   0.  80. 156. 107. 253. 253. 205.\n",
      "  11.   0.  43. 154.   0.   0.   0.   0.   0.   0.   0.   0.   0.   0.\n",
      "   0.   0.   0.   0.   0.   0.   0.   0.   0.  14.   1. 154. 253.  90.\n",
      "   0.   0.   0.   0.   0.   0.   0.   0.   0.   0.   0.   0.   0.   0.\n",
      "   0.   0.   0.   0.   0.   0.   0.   0.   0.   0.   0. 139. 253. 190.\n",
      "   2.   0.   0.   0.   0.   0.   0.   0.   0.   0.   0.   0.   0.   0.\n",
      "   0.   0.   0.   0.   0.   0.   0.   0.   0.   0.   0.  11. 190. 253.\n",
      "  70.   0.   0.   0.   0.   0.   0.   0.   0.   0.   0.   0.   0.   0.\n",
      "   0.   0.   0.   0.   0.   0.   0.   0.   0.   0.   0.   0.  35. 241.\n",
      " 225. 160. 108.   1.   0.   0.   0.   0.   0.   0.   0.   0.   0.   0.\n",
      "   0.   0.   0.   0.   0.   0.   0.   0.   0.   0.   0.   0.   0.  81.\n",
      " 240. 253. 253. 119.  25.   0.   0.   0.   0.   0.   0.   0.   0.   0.\n",
      "   0.   0.   0.   0.   0.   0.   0.   0.   0.   0.   0.   0.   0.   0.\n",
      "  45. 186. 253. 253. 150.  27.   0.   0.   0.   0.   0.   0.   0.   0.\n",
      "   0.   0.   0.   0.   0.   0.   0.   0.   0.   0.   0.   0.   0.   0.\n",
      "   0.  16.  93. 252. 253. 187.   0.   0.   0.   0.   0.   0.   0.   0.\n",
      "   0.   0.   0.   0.   0.   0.   0.   0.   0.   0.   0.   0.   0.   0.\n",
      "   0.   0.   0. 249. 253. 249.  64.   0.   0.   0.   0.   0.   0.   0.\n",
      "   0.   0.   0.   0.   0.   0.   0.   0.   0.   0.   0.   0.   0.   0.\n",
      "  46. 130. 183. 253. 253. 207.   2.   0.   0.   0.   0.   0.   0.   0.\n",
      "   0.   0.   0.   0.   0.   0.   0.   0.   0.   0.   0.   0.  39. 148.\n",
      " 229. 253. 253. 253. 250. 182.   0.   0.   0.   0.   0.   0.   0.   0.\n",
      "   0.   0.   0.   0.   0.   0.   0.   0.   0.   0.  24. 114. 221. 253.\n",
      " 253. 253. 253. 201.  78.   0.   0.   0.   0.   0.   0.   0.   0.   0.\n",
      "   0.   0.   0.   0.   0.   0.   0.   0.  23.  66. 213. 253. 253. 253.\n",
      " 253. 198.  81.   2.   0.   0.   0.   0.   0.   0.   0.   0.   0.   0.\n",
      "   0.   0.   0.   0.   0.   0.  18. 171. 219. 253. 253. 253. 253. 195.\n",
      "  80.   9.   0.   0.   0.   0.   0.   0.   0.   0.   0.   0.   0.   0.\n",
      "   0.   0.   0.   0.  55. 172. 226. 253. 253. 253. 253. 244. 133.  11.\n",
      "   0.   0.   0.   0.   0.   0.   0.   0.   0.   0.   0.   0.   0.   0.\n",
      "   0.   0.   0.   0. 136. 253. 253. 253. 212. 135. 132.  16.   0.   0.\n",
      "   0.   0.   0.   0.   0.   0.   0.   0.   0.   0.   0.   0.   0.   0.\n",
      "   0.   0.   0.   0.   0.   0.   0.   0.   0.   0.   0.   0.   0.   0.\n",
      "   0.   0.   0.   0.   0.   0.   0.   0.   0.   0.   0.   0.   0.   0.\n",
      "   0.   0.   0.   0.   0.   0.   0.   0.   0.   0.   0.   0.   0.   0.\n",
      "   0.   0.   0.   0.   0.   0.   0.   0.   0.   0.   0.   0.   0.   0.\n",
      "   0.   0.   0.   0.   0.   0.   0.   0.   0.   0.   0.   0.   0.   0.\n",
      "   0.   0.   0.   0.   0.   0.   0.   0.   0.   0.   0.   0.   0.   0.]\n",
      "target :  5\n"
     ]
    }
   ],
   "source": [
    "from sklearn.datasets import fetch_openml\n",
    "mnist = fetch_openml('mnist_784', cache=False)\n",
    "\n",
    "mnist.keys()\n",
    "import matplotlib.pyplot as plt\n",
    "import numpy as np\n",
    "\n",
    "# inspect the first datapoint of MNIST by printing the data and the label\n",
    "print('data : ', mnist.data[0])\n",
    "print('target : ', mnist.target[0])"
   ]
  },
  {
   "cell_type": "markdown",
   "metadata": {},
   "source": [
    "We see that the first data point of our training set is a 5, since that is the first element of this line, i.e. the label.\n",
    "\n",
    "We see that we can access the data and labels of the MNIST dataset by using the `data` and `target` attributes of `mnist`, which we downloaded previously. Since we intend to train a prediction model to predict digits' respective labels, we should split the data into training and testing datasets. \n",
    "Let's split the data into 4 distinct components for convenience:\n",
    "* `x_train`: The training data that we will use to train our model. We will set it to contain $60 \\ 000$ images, which each have 784 pixels. Therefore, it will be a matrix of size $60\\ 000 \\times 784$. \n",
    "* `x_test`: The testing data that we will use to test our trained predictor. Since we have reserved $60 \\ 000$ datapoints for training, we have $10 \\ 000$ points left for testing our trained model's performance. Therefore, it will be a matrix of size $10\\ 000 \\times 784$. \n",
    "* `y_train`: The labels associated to our training set. Since there are $ 60\\ 000 $ images in the training set, and each one has a corresponding label, `y_train` will be a matrix of size $ 60\\ 000 \\times 1$ (i.e. a vector).\n",
    "* `y_test`: The labels associated to our testing set. Since there are $ 10\\ 000 $ images in the testing set, and each one has a corresponding label, `y_test` will be a matrix of size $ 10\\ 000 \\times 1$ (i.e. a vector).\n",
    "\n",
    "To split the data, we will turn to another of `sklearn`'s packages: `model_selection`. This package contains a function `train_test_split` that will split the data into a training and testing set for us. We can do this by running the following cell."
   ]
  },
  {
   "cell_type": "code",
   "execution_count": 2,
   "metadata": {},
   "outputs": [
    {
     "name": "stdout",
     "output_type": "stream",
     "text": [
      "[  0.   0.   0.   0.   0.   0.   0.   0.   0.   0.   0.   0.   0.   0.\n",
      "   0.   0.   0.   0.   0.   0.   0.   0.   0.   0.   0.   0.   0.   0.\n",
      "   0.   0.   0.   0.   0.   0.   0.   0.   0.   0.   0.   0.   0.   0.\n",
      "   0.   0.   0.   0.   0.   0.   0.   0.   0.   0.   0.   0.   0.   0.\n",
      "   0.   0.   0.   0.   0.   0.   0.   0.   0.   0.   0.   0.   0.   0.\n",
      "   0.   0.   0.   0.   0.   0.   0.   0.   0.   0.   0.   0.   0.   0.\n",
      "   0.   0.   0.   0.   0.   0.   0.   0.   0.   0.   0.   0.   0.   0.\n",
      "   0.   0.   0.   0.   0.   0.   0.   0.   0.   0.   0.   0.   0.   0.\n",
      "   0.   0.   0.   0.   0.   0.   0.   0.   0.   0.   0.   0.   0.   0.\n",
      "   0.   0.   0.   0.   0.   0.   0.   0.   0.   0.   0.   0.   0.   0.\n",
      "   0.   0.   0.   0.   0.   0.   0.   0.   0.   0.   0.   0.  64.  64.\n",
      "   0.   0. 128. 191. 255. 255. 191.  64.   0.   0.   0.   0.   0.   0.\n",
      "   0.   0.   0.   0.   0.   0.   0.   0.   0.   0.   0. 191. 255. 255.\n",
      " 255. 255. 255. 255. 255. 255. 255. 191.   0.   0.   0.   0.   0.   0.\n",
      "   0.   0.   0.   0.   0.   0.   0.   0.   0.   0. 128. 255. 255. 255.\n",
      " 255. 255. 255. 255. 255. 255. 255. 255. 128.   0.   0.   0.   0.   0.\n",
      "   0.   0.   0.   0.   0.   0.   0.   0.   0.  64. 255. 255. 255. 255.\n",
      " 255. 255. 191. 128.  64.   0. 255. 255. 255.   0.   0.   0.   0.   0.\n",
      "   0.   0.   0.   0.   0.   0.   0.   0.  64. 255. 255. 255. 255. 255.\n",
      " 191. 128.   0.   0.   0.   0. 191. 255. 255.   0.   0.   0.   0.   0.\n",
      "   0.   0.   0.   0.   0.   0.   0.   0. 128. 255. 255. 255. 255. 128.\n",
      "   0.   0.   0.   0.   0.   0. 255. 255. 255.   0.   0.   0.   0.   0.\n",
      "   0.   0.   0.   0.   0.   0.   0.   0. 128. 255. 255. 128.   0.   0.\n",
      "   0.   0.   0.   0.   0.  64. 255. 255.  64.   0.   0.   0.   0.   0.\n",
      "   0.   0.   0.   0.   0.   0.   0.   0.   0.   0.   0.   0.   0.   0.\n",
      "   0.   0.   0.   0.  64. 255. 255. 128.   0.   0.   0.   0.   0.   0.\n",
      "   0.   0.   0.   0.   0.   0.   0.   0.   0.   0.   0.   0.   0.   0.\n",
      "   0.   0.   0.   0. 128. 255. 255. 128.   0.   0.   0.   0.   0.   0.\n",
      "   0.   0.   0.   0.   0.   0.   0.   0.   0.   0.   0.   0.   0. 128.\n",
      "   0.   0.   0.  64. 255. 255. 255.   0.   0.   0.   0.   0.   0.   0.\n",
      "   0.   0.   0.   0.   0.   0.   0.   0.   0.   0. 128. 255. 255. 255.\n",
      " 255. 128.   0. 191. 255. 255. 128.   0.   0.   0.   0.   0.   0.   0.\n",
      "   0.   0.   0.   0.   0.   0.   0.   0.  64. 255. 255. 255. 255. 255.\n",
      " 255. 255. 255. 255. 255. 191.   0.   0.   0.   0.   0.   0.   0.   0.\n",
      "   0.   0.   0.   0.   0.   0.   0.  64. 255. 255. 255. 255. 255. 255.\n",
      " 255. 255. 255. 255. 191.   0.   0.   0.   0.   0.   0.   0.   0.   0.\n",
      "   0.   0.   0.   0.   0.   0.  64. 255. 255. 255. 191.  64.  64. 255.\n",
      " 255. 255. 255. 255. 255.   0.   0.   0.   0.   0.   0.   0.   0.   0.\n",
      "   0.   0.   0.   0.   0.  64. 191. 255. 255. 128.  64. 191. 255. 255.\n",
      " 255. 255. 255. 255. 255. 128.   0.   0.   0.   0.   0.   0.   0.   0.\n",
      "   0.   0.   0.   0.   0. 255. 255. 255. 255. 255. 255. 255. 255. 255.\n",
      "   0.   0.  64. 255. 255. 255.   0.   0.   0.   0.   0.   0.   0.   0.\n",
      "   0.   0.   0.   0.   0. 255. 255. 255. 255. 255. 255. 255.  64.   0.\n",
      "   0.   0.   0. 191. 255. 255.  64.   0.   0.   0.   0.   0.   0.   0.\n",
      "   0.   0.   0.   0.   0. 191. 255. 255. 255. 255.  64.   0.   0.   0.\n",
      "   0.   0.   0.   0. 191. 255. 255.  64.   0.   0.   0.   0.   0.   0.\n",
      "   0.   0.   0.   0.   0.   0. 128. 128.   0.   0.   0.   0.   0.   0.\n",
      "   0.   0.   0.   0.   0. 191. 255. 255.   0.   0.   0.   0.   0.   0.\n",
      "   0.   0.   0.   0.   0.   0.   0.   0.   0.   0.   0.   0.   0.   0.\n",
      "   0.   0.   0.   0.   0.   0. 255. 191.   0.   0.   0.   0.   0.   0.\n",
      "   0.   0.   0.   0.   0.   0.   0.   0.   0.   0.   0.   0.   0.   0.\n",
      "   0.   0.   0.   0.   0.   0.   0.   0.   0.   0.   0.   0.   0.   0.\n",
      "   0.   0.   0.   0.   0.   0.   0.   0.   0.   0.   0.   0.   0.   0.\n",
      "   0.   0.   0.   0.   0.   0.   0.   0.   0.   0.   0.   0.   0.   0.\n",
      "   0.   0.   0.   0.   0.   0.   0.   0.   0.   0.   0.   0.   0.   0.\n",
      "   0.   0.   0.   0.   0.   0.   0.   0.   0.   0.   0.   0.   0.   0.]\n"
     ]
    }
   ],
   "source": [
    "from sklearn.model_selection import train_test_split\n",
    "\n",
    "x_train, x_test, y_train, y_test = train_test_split(mnist.data, \n",
    "                                                    mnist.target, \n",
    "                                                    test_size=10000,\n",
    "                                                    random_state=42)\n",
    "print(x_train[0])"
   ]
  },
  {
   "cell_type": "markdown",
   "metadata": {},
   "source": [
    "We are now ready to view these images. We will use `numpy` and `matplotlib`. I invite you to familiarize yourself with each of these libraries as they will be used regularly in the course. In the code below, we have to convert our `x_train` from a 1 dimensional vector to a 2 dimensional matrix."
   ]
  },
  {
   "cell_type": "code",
   "execution_count": 3,
   "metadata": {},
   "outputs": [
    {
     "data": {
      "image/png": "[encoded data removed]",
      "text/plain": [
       "<Figure size 432x288 with 1 Axes>"
      ]
     },
     "metadata": {
      "needs_background": "light"
     },
     "output_type": "display_data"
    }
   ],
   "source": [
    "import numpy as np\n",
    "import matplotlib.pyplot as plt\n",
    "\n",
    "#Convert our vector from one dimension to two dimensions\n",
    "matrix = np.reshape(x_train[0], (28,28))\n",
    "\n",
    "plt.imshow(matrix, cmap='gray')\n",
    "\n",
    "#Show the first number in the training set.\n",
    "plt.show()"
   ]
  },
  {
   "cell_type": "markdown",
   "metadata": {},
   "source": [
    "You might be wondering why the digit we just viewed is not a five. After all, the first image of our dataset was a 5 earlier!\n",
    "\n",
    "When we used `sklearn.model_selection`'s `train_test_split` function to split the data into training and testing datasets, `sklearn` automatically shuffled the data for us. The `random_state=42` argument was passed to preset the shuffle's randomness: this allows us to obtain the same \"random\" shuffle every time, which is important for reproducibility in the context of a scientific protocol."
   ]
  },
  {
   "cell_type": "markdown",
   "metadata": {},
   "source": [
    "To be able to implement the naive Bayes classifier in the next section, we need to transform pixel intensity values from 0 to 255 into binary values 0 and 1; you will see why. We can do this by using the `round()`function."
   ]
  },
  {
   "cell_type": "code",
   "execution_count": 4,
   "metadata": {
    "scrolled": true
   },
   "outputs": [],
   "source": [
    "# We need to divide by 255.0 and not 255 to convert ints into floats.\n",
    "# Make sure to only run the cell ONCE. If you run it multiple times,\n",
    "# you'll have to reload the kernel and rerun all the previous cells.\n",
    "x_train = np.round(x_train/255.0)"
   ]
  },
  {
   "cell_type": "markdown",
   "metadata": {},
   "source": [
    "We can use the same code as before to visualize the change:"
   ]
  },
  {
   "cell_type": "code",
   "execution_count": 5,
   "metadata": {},
   "outputs": [
    {
     "name": "stdout",
     "output_type": "stream",
     "text": [
      "[[0 0 0 0 0 0 0 0 0 0 0 0 0 0 0 0 0 0 0 0 0 0 0 0 0 0 0 0]\n",
      " [0 0 0 0 0 0 0 0 0 0 0 0 0 0 0 0 0 0 0 0 0 0 0 0 0 0 0 0]\n",
      " [0 0 0 0 0 0 0 0 0 0 0 0 0 0 0 0 0 0 0 0 0 0 0 0 0 0 0 0]\n",
      " [0 0 0 0 0 0 0 0 0 0 0 0 0 0 0 0 0 0 0 0 0 0 0 0 0 0 0 0]\n",
      " [0 0 0 0 0 0 0 0 0 0 0 0 0 0 0 0 0 0 0 0 0 0 0 0 0 0 0 0]\n",
      " [0 0 0 0 0 0 0 0 0 0 0 0 0 0 0 0 1 1 1 1 1 0 0 0 0 0 0 0]\n",
      " [0 0 0 0 0 0 0 0 0 0 0 1 1 1 1 1 1 1 1 1 1 1 0 0 0 0 0 0]\n",
      " [0 0 0 0 0 0 0 0 0 0 1 1 1 1 1 1 1 1 1 1 1 1 1 0 0 0 0 0]\n",
      " [0 0 0 0 0 0 0 0 0 0 1 1 1 1 1 1 1 1 0 0 1 1 1 0 0 0 0 0]\n",
      " [0 0 0 0 0 0 0 0 0 1 1 1 1 1 1 1 0 0 0 0 1 1 1 0 0 0 0 0]\n",
      " [0 0 0 0 0 0 0 0 1 1 1 1 1 1 0 0 0 0 0 0 1 1 1 0 0 0 0 0]\n",
      " [0 0 0 0 0 0 0 0 1 1 1 1 0 0 0 0 0 0 0 0 1 1 0 0 0 0 0 0]\n",
      " [0 0 0 0 0 0 0 0 0 0 0 0 0 0 0 0 0 0 0 1 1 1 0 0 0 0 0 0]\n",
      " [0 0 0 0 0 0 0 0 0 0 0 0 0 0 0 0 0 0 1 1 1 1 0 0 0 0 0 0]\n",
      " [0 0 0 0 0 0 0 0 0 0 0 0 0 1 0 0 0 0 1 1 1 0 0 0 0 0 0 0]\n",
      " [0 0 0 0 0 0 0 0 0 0 1 1 1 1 1 1 0 1 1 1 1 0 0 0 0 0 0 0]\n",
      " [0 0 0 0 0 0 0 0 0 1 1 1 1 1 1 1 1 1 1 1 0 0 0 0 0 0 0 0]\n",
      " [0 0 0 0 0 0 0 0 1 1 1 1 1 1 1 1 1 1 1 0 0 0 0 0 0 0 0 0]\n",
      " [0 0 0 0 0 0 0 1 1 1 1 0 0 1 1 1 1 1 1 0 0 0 0 0 0 0 0 0]\n",
      " [0 0 0 0 0 0 1 1 1 1 0 1 1 1 1 1 1 1 1 1 0 0 0 0 0 0 0 0]\n",
      " [0 0 0 0 0 1 1 1 1 1 1 1 1 1 0 0 0 1 1 1 0 0 0 0 0 0 0 0]\n",
      " [0 0 0 0 0 1 1 1 1 1 1 1 0 0 0 0 0 1 1 1 0 0 0 0 0 0 0 0]\n",
      " [0 0 0 0 0 1 1 1 1 1 0 0 0 0 0 0 0 0 1 1 1 0 0 0 0 0 0 0]\n",
      " [0 0 0 0 0 0 1 1 0 0 0 0 0 0 0 0 0 0 0 1 1 1 0 0 0 0 0 0]\n",
      " [0 0 0 0 0 0 0 0 0 0 0 0 0 0 0 0 0 0 0 0 1 1 0 0 0 0 0 0]\n",
      " [0 0 0 0 0 0 0 0 0 0 0 0 0 0 0 0 0 0 0 0 0 0 0 0 0 0 0 0]\n",
      " [0 0 0 0 0 0 0 0 0 0 0 0 0 0 0 0 0 0 0 0 0 0 0 0 0 0 0 0]\n",
      " [0 0 0 0 0 0 0 0 0 0 0 0 0 0 0 0 0 0 0 0 0 0 0 0 0 0 0 0]]\n"
     ]
    },
    {
     "data": {
      "image/png": "[encoded data removed]",
      "text/plain": [
       "<Figure size 432x288 with 1 Axes>"
      ]
     },
     "metadata": {
      "needs_background": "light"
     },
     "output_type": "display_data"
    }
   ],
   "source": [
    "#Convert our vector from one dimension to two dimensions, and\n",
    "#cast to int type for nice visualization of data\n",
    "matrix = np.reshape(x_train[0], (28,28)).astype(int)\n",
    "\n",
    "print(matrix)\n",
    "\n",
    "plt.imshow(matrix, cmap='gray')\n",
    "plt.show()"
   ]
  },
  {
   "cell_type": "markdown",
   "metadata": {},
   "source": [
    "### Implementation of a naive Bayes classifier\n",
    "\n",
    "The principle behind the naive Bayes classifier is the following: let's say we have a number of classes $n = |C|$ (10 in our case): $C = {0, 1, 2, 3, 4, 5, 6, 7, 8, 9}$) and $x$, a vector that represents our image. Using Bayes' theorem, we can determine **the posterior** $P(c|x)$, which is the probability that our vector belongs to class $c$ given its representation as the vector $x$ using the following equation :\n",
    "\n",
    "$$P(c|x) = \\frac{P(x|c) \\cdot P(c)}{P(x)}$$\n",
    "\n",
    "To calculate this probability, we need:\n",
    "\n",
    "- **The likelihood** $P(x|c)$, which is the probability of obtaining a vector $x$ given that the vector belongs to the class $c$.\n",
    "- **The prior** $P(c)$, which is the probability of having a class $c$ image in our dataset.\n",
    "- **The** **evidence** $P(x)$ , the probability of having a vector $x$ in our dataset.\n",
    "\n",
    "Once we can calculate this probability, we can do so for each class to which $x$ could belong and choose the class that generates the maximum conditional probability. We can express this with the following formula:\n",
    "\n",
    "$$h(x) = \\operatorname*{argmax}_{c \\ \\in \\ C}  \\ P(c|x)$$\n",
    "\n",
    "We use $h(x)$ here to denote our **hypothesis function**.\n",
    "\n",
    "Let's start by calculating **the evidence $P(x)$**, which is the probability of having a vector $x$ representing an image in our dataset **(representing any number)**. We can use the law of total probability to calculate it. This will be the sum of all the probabilities of obtaining the $x$ vector as a representation of **each of the numbers**weighted by the probability of observing that number, i.e. the **prior** $P(c)$:\n",
    "\n",
    "$$P(x) = P(x|c_1) \\cdot P(c_1) + P(x|c_2) \\cdot P(c_2) + \\dots + P(x|c_n) \\cdot P(c_n)$$ $$= \\sum_{j=1}^n P(x|c_j)P(c_j)$$\n",
    "\n",
    "As mentioned above, our scenario implies that $n = 10$. We can substitute $P(x)$ in our hypothesis function. We get:\n",
    "\n",
    "$$h(x) = \\operatorname*{argmax}_{c \\ \\in \\ C}  \\ P(c|x) = \\operatorname*{argmax}_{c \\ \\in \\ C}  \\ \\frac{P(x|c) \\cdot P(c)}{\\sum_{j=1}^n P(x|c_j)P(c_j)}$$\n",
    "\n",
    "We observe that **whatever** the class for which we calculate $P(c|x)$ for a vector $x$, the denominator always remains the same since it is calculated in the same way. It is then important to understand that if a value $V_1$ is greater than $V_2$, and that we divide the two values by a **positive** constant $c$, the inequality $\\frac{V_1}{c} > \\frac{V_2}{c}$ is always satisfied. This is the case here since the denominator is a probability, which implies that it can never be negative. Therefore, **we do not need to calculate the evidence $P(x)$ in our hypothesis function** since it will have no impact on the maximum value of $P(x|c) \\cdot P(c)$. So our hypothesis function becomes:\n",
    "\n",
    "$$h(x) = \\operatorname*{argmax}_{c \\ \\in \\ C}  \\ P(c|x) = \\operatorname*{argmax}_{c \\ \\in \\ C}  \\ P(x|c) \\cdot P(c)$$\n",
    "\n",
    "Perfect! One less term to calculate. Let's continue by calculating the **prior** $P(c)$, which is the probability of having an image which belons to class $c$ in our dataset. To calculate this probability for a particular class, simply count the number of data with the label of that class and divide it by the total number of data :\n",
    "\n",
    "$$P(c) = \\frac{\\# data\\ in \\ class \\ c}{\\# total \\ data}$$\n",
    "\n",
    "Since we have $10$ classes in our implementation, we need to browse `y_train` by setting 10 counters, one for each class. In the cell below, declare a list `counts` and assign 10 null values to it."
   ]
  },
  {
   "cell_type": "code",
   "execution_count": 6,
   "metadata": {},
   "outputs": [
    {
     "name": "stdout",
     "output_type": "stream",
     "text": [
      "[0, 0, 0, 0, 0, 0, 0, 0, 0, 0]\n"
     ]
    }
   ],
   "source": [
    "counts = []\n",
    "\n",
    "for x in range(10) :\n",
    "    counts.append(0)\n",
    "    \n",
    "print(counts)"
   ]
  },
  {
   "cell_type": "markdown",
   "metadata": {},
   "source": [
    "We can now count the number of instances of each label. Browse `y_train` and assign the appropriate values to `counts` : `counts[0]` will be the number of zeros in `y_train`, `counts[1]` the number of 1s, and so on. Then print the result."
   ]
  },
  {
   "cell_type": "code",
   "execution_count": 7,
   "metadata": {},
   "outputs": [
    {
     "name": "stdout",
     "output_type": "stream",
     "text": [
      "[5920, 6725, 6023, 6107, 5918, 5376, 5915, 6238, 5856, 5922]\n"
     ]
    }
   ],
   "source": [
    "for label in y_train:\n",
    "    \n",
    "    counts[int(label)] += 1\n",
    "\n",
    "print(counts)"
   ]
  },
  {
   "cell_type": "markdown",
   "metadata": {},
   "source": [
    "You should have obtained `[5920, 6725, 6023, 6107, 5918, 5376, 5915, 6238, 5856, 5922]`. We now want to get a list `priors` that will give us the probability of an image belonging to each class in our dataset."
   ]
  },
  {
   "cell_type": "code",
   "execution_count": 8,
   "metadata": {},
   "outputs": [
    {
     "name": "stdout",
     "output_type": "stream",
     "text": [
      "[0.09866666666666667, 0.11208333333333333, 0.10038333333333334, 0.10178333333333334, 0.09863333333333334, 0.0896, 0.09858333333333333, 0.10396666666666667, 0.0976, 0.0987]\n"
     ]
    }
   ],
   "source": [
    "priors = []\n",
    "\n",
    "for i in counts:\n",
    "    priors.append(i / 60000)\n",
    "    \n",
    "print(priors)"
   ]
  },
  {
   "cell_type": "markdown",
   "metadata": {},
   "source": [
    "We get `[0.09871666666666666, 0.11236666666666667, 0.0993, 0.10218333333333333, 0.09736666666666667, 0.09035, 0.09863333333333334, 0.10441666666666667, 0.09751666666666667, 0.09915]`.\n",
    "\n",
    "Now that we have calculated $P(c)$, which is the prior of each class, all that remains is to calculate **the likelihood** $P(x|c)$. It's a little more complicated than the prior. Since our vector $x$ is actually $(x_1, x_2, ... x_{784})$, we seek to determine $P(x_1, x_2, ... x_{784}|c)$. We must use the multivariate probability law which is as follows:\n",
    "\n",
    "$$P(A_1, \\dots, A_n) = P(A_1) \\times P(A_2|A_1) \\times P(A_3|A_1, A_2) \\times \\dots \\times P(A_n|A_1, A_2, \\dots, A_{n-1})$$\n",
    "\n",
    "So we have:\n",
    "\n",
    "$$P(x_1, x_2, ... x_{784}|c) = P(x_1|c) \\times P(x_2|c, x_1) \\times P(x_3|c, x_1, x_2) \\times \\dots \\times P(x_{784}|c, x_1, x_2, x_3, \\dots, x_{783})$$\n",
    "\n",
    "If we make the **naive** hypothesis that these probabilities are **independent**, we have by definition that each term $P(x_i|c, x_1, x_2, \\dots, x_{i-1})$ becomes $P(x_i|c)$. Assuming that these probabilities are independent is to assume that there is no correlation between the pixels, which is not the case. There are other versions of the Bayesian classifier that take these correlations into account, see the section **\"for maniacs\"** in the conclusion. However, let's see what results we can obtain with this \"wild assumption\".\n",
    "\n",
    "We have:\n",
    "\n",
    "$$P(x_i|c, x_1, x_2, \\dots, x_{i-1}) = P(x_i|c)$$\n",
    "\n",
    "$$\\implies P(x_1, x_2, ... x_{784}|c) = P(x_1|c) \\times P(x_2|c) \\times P(x_3|c) \\times \\dots \\times P(x_{784}|c)$$\n",
    "\n",
    "We need to calculate ten different $P(x|c_j)$, a likelihood for each class $j, 0 \\leq j \\leq $9. We want to determine:\n",
    "\n",
    "$$P(x_{j1}, x_{j2}, ... x_{j \\ 784}|c_j) = P(x_{j1}|c_j) \\times P(x_{j2}|c_j) \\times P(x_{j3}|c_j) \\times \\dots \\times P(x_{j784}|c_j)$$\n",
    "\n",
    "$$= \\prod_{i = 1}^{784} P(x_{ji}|c_j) $$\n",
    "\n",
    "How to calculate $P(x_{ji}|c_j)$?\n",
    "\n",
    "**Since we have rounded each pixel $x_i$ to a binary value**, we can model $P(x_{ji}|c_j)$ with a binomial distribution where the number $n$ of Bernoulli trials is 1. A binomial distribution where $n = $1 is also called a Bernoulli distribution. If you are not familiar with binomial distributions, I strongly recommend you take a look at it since it is an important topic.\n",
    "\n",
    "Let's define the probability that a pixel $i$ of class $j$ is a $1$ as follows:\n",
    "\n",
    "$$P(x_{ji} = 1) = p_{ji}$$\n",
    "\n",
    "The probability that it is a $0$ is therefore the complement of $p_{ji}$. We have:\n",
    "\n",
    "$$P(x_{ji} = 0) = (1 - p_{ji})$$\n",
    "\n",
    "According to the binomial distribution, we have:\n",
    "\n",
    "$$P(x_{ji}|c_j) = p_{ji}^{x_i}(1 - p_{ji})^{1-x_i}$$\n",
    "\n",
    "Now that we know how to calculate the likelihood, we just have to calculate $p_{ji}$ for all $j$ classes and $i$ pixels. It's a simple enough calculation:\n",
    "\n",
    "$$p_{ji} = \\frac{\\# pixels \\ i \\ equal \\ to\\ 1 \\ for\\ the\\ data\\ of\\ class\\ j}{\\# total \\ data\\ in\\ class \\ j}$$\n",
    "\n",
    "**However, there is a problem with the previous formula, namely the fact that $p_{ji}$ can be zero.** This would happen if we were to **never** see a value of 1 for a pixel $i$ among all the images of a class $j$ in our test set. *Why is that a problem?*\n",
    "\n",
    "Let us remember that we have just demonstrated that:\n",
    "\n",
    "$$P(x|c_j) = \\prod_{i = 1}^{784} P(x_{ji}|c_j) = \\prod_{i = 1}^{784} p_{ji}^{x_i}(1 - p_{ji})^{1 - x_i}$$\n",
    "\n",
    "If even **one** of the $p_{ij}$ values  is null, **our entire product will be nullified**. Suppose we have a pixel $k$ that is always black in the images of our training set (a pixel in a corner, for example). We'll have:\n",
    "\n",
    "$$p_{jk} = 0 \\implies \\prod_{i = 1}^{784} p_{ji}^{x_i}(1 - p_{ji})^{1 - x_i} = 0$$\n",
    "\n",
    "This regardless of the values of $p_{j1}, p_{j2}, \\dots, p_{j \\ k-1}, p_{j \\ k+1}, \\dots, p_{j \\ 784}$ which can be very good probabilities. To remedy this problem, we use **Laplace smoothing.** We adjust the formula as follows:\n",
    "\n",
    "$$p_{ji} = \\frac{\\# (\\ pixels \\ i \\ equal \\ to \\ 1 \\ for \\ data \\ in \\ class \\ j \\ )\\ + 1}{\\# (\\ total \\ data \\ in \\ class \\ j \\ ) \\ + 2}$$\n",
    "\n",
    "This makes $p_{ji}$ **strictly** greater than 0 and less than 1. We add 2 to the denominator since we are working with a **binomial distribution**. This technique is also known as **additive smoothing**. Laplace smoothing is also used in bag-of-words modelling in natural language processing. For more information, see :\n",
    "\n",
    "https://en.wikipedia.org/wiki/Additive_smoothing\n",
    "\n",
    "https://www.youtube.com/watch?v=k_TiEHh3RI0\n",
    "\n",
    "Let's start by calculating $p*{ji}$ :\n",
    "\n",
    "In the next cell, initialize a list `sum_pixel_values` which will be a 2-dimensional matrix (list of lists) containing the sum of all pixel values $x*{ji}$ in `x_train`. Specifically, `sum_pixel_values` will have a dimension of $10 \\times 784$. Then calculate these values. **Reminder:** $j$ is the $j^{th}$ class ($0 \\leq j \\leq 9$) and $i$ is the $i^{th}$ pixel ($0 \\leq j < 784$).\n",
    "\n",
    "**Warning!** We previously used the $j$ index ranging from $1$ to $784$ in the explanation. It is simpler to start from scratch in the implementation to avoid an index management issue."
   ]
  },
  {
   "cell_type": "code",
   "execution_count": 9,
   "metadata": {},
   "outputs": [],
   "source": [
    "sum_pixel_array = np.zeros((10,784))\n",
    "for datapoint, label in zip(x_train, y_train):\n",
    "    sum_pixel_array[int(label)] += datapoint"
   ]
  },
  {
   "cell_type": "markdown",
   "metadata": {},
   "source": [
    "We can now calculate $p\\_{ji}$. Initialize a new list `pixel_probability` with the same dimensions as `sum_pixel_values` and calculate each $p\\_{ji}$ by using laplace smoothing as explained above. *Hint* : We have already calculated the two variables in this equation."
   ]
  },
  {
   "cell_type": "code",
   "execution_count": 10,
   "metadata": {},
   "outputs": [
    {
     "name": "stdout",
     "output_type": "stream",
     "text": [
      "[1.68861871e-04 1.68861871e-04 1.68861871e-04 1.68861871e-04\n",
      " 1.68861871e-04 1.68861871e-04 1.68861871e-04 1.68861871e-04\n",
      " 1.68861871e-04 1.68861871e-04 1.68861871e-04 1.68861871e-04\n",
      " 1.68861871e-04 1.68861871e-04 1.68861871e-04 1.68861871e-04\n",
      " 1.68861871e-04 1.68861871e-04 1.68861871e-04 1.68861871e-04\n",
      " 1.68861871e-04 1.68861871e-04 1.68861871e-04 1.68861871e-04\n",
      " 1.68861871e-04 1.68861871e-04 1.68861871e-04 1.68861871e-04\n",
      " 1.68861871e-04 1.68861871e-04 1.68861871e-04 1.68861871e-04\n",
      " 1.68861871e-04 1.68861871e-04 1.68861871e-04 1.68861871e-04\n",
      " 1.68861871e-04 1.68861871e-04 1.68861871e-04 3.37723742e-04\n",
      " 3.37723742e-04 1.68861871e-04 1.68861871e-04 1.68861871e-04\n",
      " 1.68861871e-04 1.68861871e-04 1.68861871e-04 1.68861871e-04\n",
      " 1.68861871e-04 1.68861871e-04 1.68861871e-04 1.68861871e-04\n",
      " 1.68861871e-04 1.68861871e-04 1.68861871e-04 1.68861871e-04\n",
      " 1.68861871e-04 1.68861871e-04 1.68861871e-04 1.68861871e-04\n",
      " 1.68861871e-04 1.68861871e-04 1.68861871e-04 3.37723742e-04\n",
      " 1.68861871e-04 1.68861871e-04 1.68861871e-04 1.68861871e-04\n",
      " 3.37723742e-04 5.06585613e-04 1.68861871e-04 3.37723742e-04\n",
      " 3.37723742e-04 1.68861871e-04 1.68861871e-04 5.06585613e-04\n",
      " 3.37723742e-04 1.68861871e-04 1.68861871e-04 1.68861871e-04\n",
      " 1.68861871e-04 1.68861871e-04 1.68861871e-04 1.68861871e-04\n",
      " 1.68861871e-04 1.68861871e-04 1.68861871e-04 1.68861871e-04\n",
      " 1.68861871e-04 3.37723742e-04 3.37723742e-04 3.37723742e-04\n",
      " 5.06585613e-04 8.44309355e-04 1.85748058e-03 4.72813239e-03\n",
      " 6.92333671e-03 9.79398852e-03 1.35089497e-02 1.72239108e-02\n",
      " 2.00945626e-02 1.57041540e-02 1.08071597e-02 9.79398852e-03\n",
      " 7.09219858e-03 2.87065181e-03 1.85748058e-03 1.01317123e-03\n",
      " 3.37723742e-04 1.68861871e-04 1.68861871e-04 1.68861871e-04\n",
      " 1.68861871e-04 1.68861871e-04 1.68861871e-04 1.68861871e-04\n",
      " 1.68861871e-04 1.68861871e-04 8.44309355e-04 1.51975684e-03\n",
      " 4.22154677e-03 1.23269166e-02 2.54981425e-02 4.94765282e-02\n",
      " 9.27051672e-02 1.52819993e-01 2.06011483e-01 2.52110773e-01\n",
      " 2.63931104e-01 2.38770686e-01 1.87605539e-01 1.34920635e-01\n",
      " 7.75075988e-02 3.63053023e-02 1.36778116e-02 3.03951368e-03\n",
      " 6.75447484e-04 3.37723742e-04 1.68861871e-04 1.68861871e-04\n",
      " 1.68861871e-04 1.68861871e-04 1.68861871e-04 3.37723742e-04\n",
      " 3.37723742e-04 3.37723742e-04 2.53292806e-03 5.57244174e-03\n",
      " 1.58730159e-02 3.93448159e-02 8.69638636e-02 1.70381628e-01\n",
      " 2.75920297e-01 3.95305640e-01 5.05741304e-01 5.77507599e-01\n",
      " 6.05032084e-01 5.62310030e-01 4.69436001e-01 3.42958460e-01\n",
      " 2.16312057e-01 1.12968592e-01 4.54238433e-02 9.28740290e-03\n",
      " 1.68861871e-03 5.06585613e-04 1.68861871e-04 1.68861871e-04\n",
      " 1.68861871e-04 1.68861871e-04 1.68861871e-04 1.68861871e-04\n",
      " 5.06585613e-04 2.70178994e-03 5.40357987e-03 1.70550490e-02\n",
      " 4.57615670e-02 1.05369807e-01 2.00607903e-01 3.31644715e-01\n",
      " 4.69942587e-01 6.02330294e-01 6.96386356e-01 7.55825735e-01\n",
      " 7.73387369e-01 7.52279635e-01 6.83046268e-01 5.45254981e-01\n",
      " 3.98345154e-01 2.36406619e-01 1.13981763e-01 3.00574130e-02\n",
      " 4.22154677e-03 5.06585613e-04 1.68861871e-04 1.68861871e-04\n",
      " 1.68861871e-04 1.68861871e-04 1.68861871e-04 1.68861871e-04\n",
      " 6.75447484e-04 3.88382303e-03 1.16514691e-02 3.85005066e-02\n",
      " 9.57446809e-02 2.01452212e-01 3.39581223e-01 4.88517393e-01\n",
      " 6.14488349e-01 6.99088146e-01 7.44680851e-01 7.62749071e-01\n",
      " 7.64944276e-01 7.72374198e-01 7.55825735e-01 6.83215130e-01\n",
      " 5.46437015e-01 3.76224249e-01 2.07531239e-01 7.64944276e-02\n",
      " 1.08071597e-02 8.44309355e-04 1.68861871e-04 3.37723742e-04\n",
      " 1.68861871e-04 1.68861871e-04 1.68861871e-04 1.68861871e-04\n",
      " 1.18203310e-03 6.24788923e-03 2.43161094e-02 7.70010132e-02\n",
      " 1.77642688e-01 3.23539345e-01 4.78892266e-01 6.08747045e-01\n",
      " 6.80006754e-01 6.98074975e-01 6.69537318e-01 6.34245187e-01\n",
      " 6.17190138e-01 6.27321851e-01 6.80006754e-01 7.01283350e-01\n",
      " 6.45727795e-01 4.90712597e-01 3.10536981e-01 1.31374536e-01\n",
      " 2.43161094e-02 6.75447484e-04 1.68861871e-04 1.68861871e-04\n",
      " 1.68861871e-04 1.68861871e-04 1.68861871e-04 1.68861871e-04\n",
      " 1.68861871e-03 9.62512665e-03 5.33603512e-02 1.45221209e-01\n",
      " 2.74569402e-01 4.42418102e-01 5.91691996e-01 6.72407970e-01\n",
      " 6.70212766e-01 6.11279973e-01 5.15366430e-01 4.39209726e-01\n",
      " 3.91252955e-01 4.23843296e-01 5.18912530e-01 6.30699088e-01\n",
      " 6.60081054e-01 5.82404593e-01 4.07801418e-01 1.92164809e-01\n",
      " 4.28909152e-02 1.01317123e-03 1.68861871e-04 1.68861871e-04\n",
      " 1.68861871e-04 1.68861871e-04 3.37723742e-04 1.68861871e-04\n",
      " 2.87065181e-03 2.27963526e-02 9.72644377e-02 2.24079703e-01\n",
      " 3.86862546e-01 5.55386694e-01 6.56534954e-01 6.70550490e-01\n",
      " 5.85106383e-01 4.64201283e-01 3.49037487e-01 2.50591017e-01\n",
      " 2.05673759e-01 2.40965890e-01 3.58493752e-01 5.21614319e-01\n",
      " 6.43194867e-01 6.25802094e-01 4.88517393e-01 2.55656873e-01\n",
      " 6.58561297e-02 1.18203310e-03 1.68861871e-04 1.68861871e-04\n",
      " 1.68861871e-04 1.68861871e-04 1.68861871e-04 3.37723742e-04\n",
      " 5.23471800e-03 4.50861196e-02 1.55015198e-01 3.22357312e-01\n",
      " 5.01182033e-01 6.34076326e-01 6.72407970e-01 5.97095576e-01\n",
      " 4.49341439e-01 3.07835191e-01 1.85072611e-01 1.15501520e-01\n",
      " 9.70955758e-02 1.35427221e-01 2.50253293e-01 4.30260047e-01\n",
      " 6.01317123e-01 6.44376900e-01 5.36136440e-01 3.06822020e-01\n",
      " 8.79770348e-02 1.85748058e-03 3.37723742e-04 1.68861871e-04\n",
      " 1.68861871e-04 1.68861871e-04 1.68861871e-04 5.06585613e-04\n",
      " 8.27423168e-03 8.13914218e-02 2.37250929e-01 4.25363053e-01\n",
      " 5.91185410e-01 6.72745694e-01 6.31712259e-01 4.81087470e-01\n",
      " 3.03951368e-01 1.68861871e-01 8.25734549e-02 5.13340088e-02\n",
      " 4.79567714e-02 8.47686592e-02 1.96724080e-01 3.80952381e-01\n",
      " 5.69064505e-01 6.41506248e-01 5.49476528e-01 3.41776427e-01\n",
      " 1.11786559e-01 3.37723742e-03 3.37723742e-04 1.68861871e-04\n",
      " 1.68861871e-04 1.68861871e-04 1.68861871e-04 6.75447484e-04\n",
      " 1.75616346e-02 1.35764944e-01 3.24890240e-01 5.19756839e-01\n",
      " 6.50455927e-01 6.65653495e-01 5.47450186e-01 3.44309355e-01\n",
      " 1.75278622e-01 6.85579196e-02 3.42789598e-02 2.24586288e-02\n",
      " 2.56670044e-02 6.80513340e-02 1.89463019e-01 3.68794326e-01\n",
      " 5.58426207e-01 6.33232016e-01 5.46437015e-01 3.53934482e-01\n",
      " 1.20229652e-01 4.55927052e-03 1.68861871e-04 1.68861871e-04\n",
      " 1.68861871e-04 1.68861871e-04 1.68861871e-04 3.37723742e-04\n",
      " 2.87065181e-02 1.94022290e-01 4.10672070e-01 5.98784195e-01\n",
      " 6.81695373e-01 6.24620061e-01 4.33975008e-01 2.25261736e-01\n",
      " 8.88213441e-02 3.12394461e-02 1.60418777e-02 1.30023641e-02\n",
      " 2.04322864e-02 7.91962175e-02 2.11752786e-01 3.98007430e-01\n",
      " 5.68557920e-01 6.26984127e-01 5.25329281e-01 3.35021952e-01\n",
      " 1.19723067e-01 5.23471800e-03 1.68861871e-04 1.68861871e-04\n",
      " 1.68861871e-04 1.68861871e-04 1.68861871e-04 3.37723742e-04\n",
      " 4.71124620e-02 2.59371834e-01 4.78216819e-01 6.45896657e-01\n",
      " 6.81357649e-01 5.49645390e-01 3.34177643e-01 1.45896657e-01\n",
      " 4.76190476e-02 1.58730159e-02 1.06382979e-02 1.33400878e-02\n",
      " 3.81627828e-02 1.24957785e-01 2.68996960e-01 4.62343803e-01\n",
      " 6.00472813e-01 6.05876393e-01 4.84971293e-01 2.92468761e-01\n",
      " 1.01485984e-01 4.22154677e-03 1.68861871e-04 1.68861871e-04\n",
      " 1.68861871e-04 1.68861871e-04 1.68861871e-04 3.37723742e-04\n",
      " 6.58561297e-02 3.08004053e-01 5.28368794e-01 6.71394799e-01\n",
      " 6.59067882e-01 4.81087470e-01 2.57345491e-01 9.67578521e-02\n",
      " 2.95508274e-02 1.26646403e-02 1.46909828e-02 3.09017224e-02\n",
      " 8.32489024e-02 2.01283350e-01 3.81796690e-01 5.44410672e-01\n",
      " 6.21411685e-01 5.71597433e-01 4.14724755e-01 2.35393448e-01\n",
      " 7.24417427e-02 2.53292806e-03 1.68861871e-04 1.68861871e-04\n",
      " 1.68861871e-04 1.68861871e-04 1.68861871e-04 8.44309355e-04\n",
      " 8.89902060e-02 3.39412361e-01 5.56231003e-01 6.80006754e-01\n",
      " 6.37115839e-01 4.51705505e-01 2.24924012e-01 8.83147585e-02\n",
      " 3.27592030e-02 2.46538332e-02 4.20466059e-02 8.84836204e-02\n",
      " 1.86592367e-01 3.38230328e-01 5.11651469e-01 6.14994934e-01\n",
      " 6.11111111e-01 5.01688619e-01 3.33164471e-01 1.59743330e-01\n",
      " 4.20466059e-02 2.19520432e-03 1.68861871e-04 1.68861871e-04\n",
      " 1.68861871e-04 1.68861871e-04 1.68861871e-04 1.35089497e-03\n",
      " 9.67578521e-02 3.36035123e-01 5.55893279e-01 6.85748058e-01\n",
      " 6.46234380e-01 4.66565350e-01 2.69334684e-01 1.30530226e-01\n",
      " 8.12225599e-02 8.83147585e-02 1.35089497e-01 2.25937183e-01\n",
      " 3.60013509e-01 5.06585613e-01 6.14657210e-01 6.34245187e-01\n",
      " 5.46437015e-01 3.95305640e-01 2.37082067e-01 9.57446809e-02\n",
      " 1.84059439e-02 1.01317123e-03 1.68861871e-04 1.68861871e-04\n",
      " 1.68861871e-04 1.68861871e-04 1.68861871e-04 1.85748058e-03\n",
      " 8.71327254e-02 3.01249578e-01 5.23640662e-01 6.74772036e-01\n",
      " 6.78318136e-01 5.58763931e-01 3.92603850e-01 2.65788585e-01\n",
      " 2.26612631e-01 2.49915569e-01 3.18304627e-01 4.27727119e-01\n",
      " 5.48294495e-01 6.39142182e-01 6.57885849e-01 5.71597433e-01\n",
      " 4.35663627e-01 2.81661601e-01 1.38973320e-01 4.74501857e-02\n",
      " 6.92333671e-03 5.06585613e-04 1.68861871e-04 1.68861871e-04\n",
      " 1.68861871e-04 3.37723742e-04 1.68861871e-04 1.68861871e-03\n",
      " 6.34920635e-02 2.34042553e-01 4.55589328e-01 6.36778116e-01\n",
      " 7.23404255e-01 6.98074975e-01 6.07058426e-01 5.14859845e-01\n",
      " 4.71293482e-01 4.94934144e-01 5.50658561e-01 6.25970956e-01\n",
      " 6.78486998e-01 6.70888213e-01 5.81053698e-01 4.46133063e-01\n",
      " 2.93650794e-01 1.62107396e-01 6.55184059e-02 1.65484634e-02\n",
      " 2.19520432e-03 1.68861871e-04 3.37723742e-04 1.68861871e-04\n",
      " 1.68861871e-04 1.68861871e-04 1.68861871e-04 1.85748058e-03\n",
      " 3.37723742e-02 1.51131375e-01 3.32995610e-01 5.30395137e-01\n",
      " 6.90138467e-01 7.82337048e-01 7.89766971e-01 7.62917933e-01\n",
      " 7.31509625e-01 7.26781493e-01 7.34549139e-01 7.31678487e-01\n",
      " 6.76122931e-01 5.60959135e-01 4.28402567e-01 2.78790949e-01\n",
      " 1.57210402e-01 6.95710908e-02 2.04322864e-02 5.06585613e-03\n",
      " 5.06585613e-04 1.68861871e-04 3.37723742e-04 1.68861871e-04\n",
      " 1.68861871e-04 1.68861871e-04 1.68861871e-04 8.44309355e-04\n",
      " 1.06382979e-02 7.04154002e-02 1.92671395e-01 3.52077001e-01\n",
      " 5.33096927e-01 6.85410334e-01 7.78284363e-01 8.13745356e-01\n",
      " 8.06990881e-01 7.84363391e-01 7.24924012e-01 6.24788923e-01\n",
      " 5.03039514e-01 3.57311719e-01 2.28807835e-01 1.31543398e-01\n",
      " 5.80884836e-02 1.89125296e-02 5.06585613e-03 1.51975684e-03\n",
      " 3.37723742e-04 1.68861871e-04 3.37723742e-04 1.68861871e-04\n",
      " 1.68861871e-04 1.68861871e-04 1.68861871e-04 1.68861871e-04\n",
      " 1.85748058e-03 1.60418777e-02 5.79196217e-02 1.44039176e-01\n",
      " 2.63762242e-01 3.94292469e-01 5.02195204e-01 5.79027356e-01\n",
      " 5.94731510e-01 5.39682540e-01 4.52043229e-01 3.39074637e-01\n",
      " 2.30496454e-01 1.41337386e-01 7.07531239e-02 2.88753799e-02\n",
      " 1.09760216e-02 3.20837555e-03 6.75447484e-04 6.75447484e-04\n",
      " 3.37723742e-04 1.68861871e-04 1.68861871e-04 1.68861871e-04\n",
      " 1.68861871e-04 1.68861871e-04 1.68861871e-04 1.68861871e-04\n",
      " 6.75447484e-04 1.68861871e-03 6.92333671e-03 1.80682202e-02\n",
      " 4.03579872e-02 7.19351570e-02 1.12124282e-01 1.39986491e-01\n",
      " 1.49780480e-01 1.39817629e-01 1.12630868e-01 7.81830463e-02\n",
      " 4.84633570e-02 2.24586288e-02 1.04694360e-02 4.22154677e-03\n",
      " 1.68861871e-03 8.44309355e-04 3.37723742e-04 3.37723742e-04\n",
      " 1.68861871e-04 1.68861871e-04 1.68861871e-04 1.68861871e-04\n",
      " 1.68861871e-04 1.68861871e-04 1.68861871e-04 1.68861871e-04\n",
      " 1.68861871e-04 1.68861871e-04 1.68861871e-04 3.37723742e-04\n",
      " 8.44309355e-04 1.68861871e-03 2.53292806e-03 3.03951368e-03\n",
      " 2.53292806e-03 2.36406619e-03 1.85748058e-03 1.35089497e-03\n",
      " 6.75447484e-04 3.37723742e-04 1.68861871e-04 1.68861871e-04\n",
      " 1.68861871e-04 1.68861871e-04 1.68861871e-04 1.68861871e-04\n",
      " 1.68861871e-04 1.68861871e-04 1.68861871e-04 1.68861871e-04\n",
      " 1.68861871e-04 1.68861871e-04 1.68861871e-04 1.68861871e-04\n",
      " 1.68861871e-04 1.68861871e-04 1.68861871e-04 1.68861871e-04\n",
      " 1.68861871e-04 1.68861871e-04 1.68861871e-04 1.68861871e-04\n",
      " 1.68861871e-04 1.68861871e-04 1.68861871e-04 1.68861871e-04\n",
      " 1.68861871e-04 1.68861871e-04 1.68861871e-04 1.68861871e-04\n",
      " 1.68861871e-04 1.68861871e-04 1.68861871e-04 1.68861871e-04\n",
      " 1.68861871e-04 1.68861871e-04 1.68861871e-04 1.68861871e-04\n",
      " 1.68861871e-04 1.68861871e-04 1.68861871e-04 1.68861871e-04\n",
      " 1.68861871e-04 1.68861871e-04 1.68861871e-04 1.68861871e-04\n",
      " 1.68861871e-04 1.68861871e-04 1.68861871e-04 1.68861871e-04\n",
      " 1.68861871e-04 1.68861871e-04 1.68861871e-04 1.68861871e-04\n",
      " 1.68861871e-04 1.68861871e-04 1.68861871e-04 1.68861871e-04\n",
      " 1.68861871e-04 1.68861871e-04 1.68861871e-04 1.68861871e-04\n",
      " 1.68861871e-04 1.68861871e-04 1.68861871e-04 1.68861871e-04]\n"
     ]
    }
   ],
   "source": [
    "pixel_probability = np.zeros((10,784)) \n",
    "\n",
    "for digit in range(0,10):\n",
    "    pixel_probability_for_digit = []\n",
    "    for pixel in range(0,784):\n",
    "        pixel_probability_for_digit.append((sum_pixel_array[digit][pixel] + 1) / (counts[digit] + 2))\n",
    "    \n",
    "    pixel_probability[digit] = pixel_probability_for_digit\n",
    "\n",
    "print(pixel_probability[0])"
   ]
  },
  {
   "cell_type": "markdown",
   "metadata": {},
   "source": [
    "It would now be interesting to visualize what we have just calculated. Using the code used above for displaying vectors from `x_train`, display the pixel probabilities for each class."
   ]
  },
  {
   "cell_type": "code",
   "execution_count": 11,
   "metadata": {},
   "outputs": [
    {
     "data": {
      "image/png": "[encoded data removed]",
      "text/plain": [
       "<Figure size 432x288 with 1 Axes>"
      ]
     },
     "metadata": {
      "needs_background": "light"
     },
     "output_type": "display_data"
    },
    {
     "data": {
      "image/png": "[encoded data removed]",
      "text/plain": [
       "<Figure size 432x288 with 1 Axes>"
      ]
     },
     "metadata": {
      "needs_background": "light"
     },
     "output_type": "display_data"
    },
    {
     "data": {
      "image/png": "[encoded data removed]",
      "text/plain": [
       "<Figure size 432x288 with 1 Axes>"
      ]
     },
     "metadata": {
      "needs_background": "light"
     },
     "output_type": "display_data"
    },
    {
     "data": {
      "image/png": "[encoded data removed]",
      "text/plain": [
       "<Figure size 432x288 with 1 Axes>"
      ]
     },
     "metadata": {
      "needs_background": "light"
     },
     "output_type": "display_data"
    },
    {
     "data": {
      "image/png": "[encoded data removed]",
      "text/plain": [
       "<Figure size 432x288 with 1 Axes>"
      ]
     },
     "metadata": {
      "needs_background": "light"
     },
     "output_type": "display_data"
    },
    {
     "data": {
      "image/png": "[encoded data removed]",
      "text/plain": [
       "<Figure size 432x288 with 1 Axes>"
      ]
     },
     "metadata": {
      "needs_background": "light"
     },
     "output_type": "display_data"
    },
    {
     "data": {
      "image/png": "[encoded data removed]",
      "text/plain": [
       "<Figure size 432x288 with 1 Axes>"
      ]
     },
     "metadata": {
      "needs_background": "light"
     },
     "output_type": "display_data"
    },
    {
     "data": {
      "image/png": "[encoded data removed]",
      "text/plain": [
       "<Figure size 432x288 with 1 Axes>"
      ]
     },
     "metadata": {
      "needs_background": "light"
     },
     "output_type": "display_data"
    },
    {
     "data": {
      "image/png": "[encoded data removed]",
      "text/plain": [
       "<Figure size 432x288 with 1 Axes>"
      ]
     },
     "metadata": {
      "needs_background": "light"
     },
     "output_type": "display_data"
    },
    {
     "data": {
      "image/png": "[encoded data removed]",
      "text/plain": [
       "<Figure size 432x288 with 1 Axes>"
      ]
     },
     "metadata": {
      "needs_background": "light"
     },
     "output_type": "display_data"
    }
   ],
   "source": [
    "for digit in range(0,10) : \n",
    "    matrix = np.reshape(pixel_probability[digit], (28,28))\n",
    "\n",
    "    plt.imshow(matrix, cmap='gray')\n",
    "    plt.show()"
   ]
  },
  {
   "cell_type": "markdown",
   "metadata": {},
   "source": [
    "In summary, our $h(x)$ **hypothesis function** required two ingredients:\n",
    "\n",
    "$$h(x) = \\operatorname*{argmax}_{c \\ \\in \\ C}  \\ P(x|c) \\cdot P(c)$$\n",
    "\n",
    "P(c) is **the prior**, which we first calculated for each class. $P(x|c)$ is **the likelihood ******where********:\n",
    "\n",
    "$$P(x|c_j) = \\prod_{i = 1}^{784} p_{ji}^{x_i}(1 - p_{ji})^{1-x_i}$$\n",
    "\n",
    "We then generated the matrix `pixel_probability` which contains each of the $p_{ji}$ values.\n",
    "\n",
    "Placing the latter in the first equation, we have:\n",
    "\n",
    "$$h(x) = \\operatorname*{argmax}_{c \\ \\in \\ C}  \\ P(c_j) \\cdot \\prod_{i = 1}^{784} p_{ji}^{x_i}(1 - p_{ji})^{1-x_i}$$\n",
    "\n",
    "We only have one adjustment left to make to $h(x)$. A product with a high number of small probabilities is problematic. It could be that this product is such a small result that a computer has difficulty representing them on its processor, a problem called arithmetic underflow. To remedy this, we can calculate the logarithm of these values. Similar to the fact that **we didn't have to compute the evidence** earlier in our objective function since $V_1 > V_2 \\implies \\frac{V_1}{c} > \\frac{V_2}{c}$ for a positive constant $c$, taking the logarithm of $P(c_j) \\cdot \\prod_{i = 1}{784}^p_{ji}{x_i}^{x_i}(1 - p_{ji})^{x_i}$ does not change its maximum value because the logarithm is a **monotonically increasing function**. Note that the direction of variation of a monotonic function is constant. So we have:\n",
    "\n",
    "$$h(x) = \\operatorname*{argmax}_{c \\ \\in \\ C}  \\ \\log(P(c_j) \\cdot \\prod_{i = 1}^{784} p_{ji}^{x_i}(1 - p_{ji})^{1-x_i}) = \\operatorname*{argmax}_{c \\ \\in \\ C}  \\ \\log(P(c_j)) + \\log(\\prod_{i = 1}^{784} p_{ji}^{x_i}(1 - p_{ji})^{1-x_i})$$\n",
    "\n",
    "$$= \\operatorname*{argmax}_{c \\ \\in \\ C}  \\ \\log(P(c_j)) + \\sum_{i = 1}^{784} \\log(p_{ji}^{x_i}(1 - p_{ji})^{1-x_i})$$\n",
    "\n",
    "$$= \\operatorname*{argmax}_{c \\ \\in \\ C}  \\ \\log(P(c_j)) + \\sum_{i = 1}^{784} (x_i \\cdot \\log(p_{ji})+(1-x_i)\\cdot \\log(1 - p_{ji}))$$\n",
    "\n",
    "We have the final form of our hypothesis function $h(x)$. Declare in the following cell a function `hypothesis()` that takes as argument a vector $x$ and returns $h(x)$."
   ]
  },
  {
   "cell_type": "code",
   "execution_count": 12,
   "metadata": {},
   "outputs": [],
   "source": [
    "def hypothesis(vector):\n",
    "    probability_for_class_j = []\n",
    "    \n",
    "    for j in range(0,10) :\n",
    "        sum = 0\n",
    "        for i in range(0,784):\n",
    "            sum += (vector[i] * np.log(pixel_probability[j][i]) + (1 - vector[i])*np.log(1 - pixel_probability[j][i]))\n",
    "        result = sum + np.log(priors[j])\n",
    "\n",
    "        probability_for_class_j.append(result)\n",
    "    \n",
    "    return np.argmax(probability_for_class_j)"
   ]
  },
  {
   "cell_type": "markdown",
   "metadata": {},
   "source": [
    "We can now classify our test set.\n",
    "\n",
    "Recall that our testing datapoints are refered by `x_test` and their respective labels by `y_test`."
   ]
  },
  {
   "cell_type": "code",
   "execution_count": 13,
   "metadata": {},
   "outputs": [
    {
     "data": {
      "image/png": "[encoded data removed]",
      "text/plain": [
       "<Figure size 432x288 with 1 Axes>"
      ]
     },
     "metadata": {
      "needs_background": "light"
     },
     "output_type": "display_data"
    }
   ],
   "source": [
    "#Convert our vector from one dimension to two dimensions\n",
    "matrix = np.reshape(x_test[0], (28,28))\n",
    "\n",
    "plt.imshow(matrix, cmap='gray')\n",
    "plt.show()"
   ]
  },
  {
   "cell_type": "code",
   "execution_count": 14,
   "metadata": {},
   "outputs": [
    {
     "data": {
      "image/png": "[encoded data removed]",
      "text/plain": [
       "<Figure size 432x288 with 1 Axes>"
      ]
     },
     "metadata": {
      "needs_background": "light"
     },
     "output_type": "display_data"
    }
   ],
   "source": [
    "for i in range(len(x_test)):\n",
    "    for j in range(len(x_test[0])):\n",
    "        if x_test[i][j] != 0 :\n",
    "            #We need to divide by 255.0 and not 255 to convert ints into floats\n",
    "            x_test[i][j] = round(int(x_test[i][j]) / 255.0)\n",
    "            \n",
    "#Convert our vector from one dimension to two dimensions\n",
    "matrix = np.reshape(x_test[0], (28,28))\n",
    "\n",
    "plt.imshow(matrix, cmap='gray')\n",
    "plt.show()"
   ]
  },
  {
   "cell_type": "markdown",
   "metadata": {},
   "source": [
    "We can **finally** classify our training set. Just iterate our hypothesis function on the 10,000 vectors composing `x_test` by comparing the result with the corresponding value of `y_test` . It is useful to accumulate the error index in a list called `misclassifications`. That said, we will have to be **patient**."
   ]
  },
  {
   "cell_type": "code",
   "execution_count": 15,
   "metadata": {},
   "outputs": [
    {
     "name": "stdout",
     "output_type": "stream",
     "text": [
      "[2, 10, 20, 32, 35, 37, 42, 46, 52, 58, 59, 77, 78, 84, 86, 100, 108, 109, 112, 114, 118, 123, 137, 142, 151, 154, 160, 164, 174, 180, 183, 211, 215, 217, 222, 228, 236, 241, 244, 256, 278, 280, 281, 284, 288, 289, 302, 303, 313, 320, 325, 329, 330, 332, 348, 349, 351, 352, 353, 356, 358, 364, 373, 379, 385, 408, 413, 420, 431, 435, 456, 457, 460, 472, 477, 485, 488, 495, 498, 517, 523, 526, 530, 533, 537, 538, 546, 549, 565, 566, 567, 579, 590, 593, 595, 599, 605, 615, 621, 644, 647, 649, 671, 672, 674, 686, 687, 692, 693, 698, 699, 701, 710, 717, 721, 733, 736, 740, 750, 755, 756, 758, 760, 769, 772, 773, 774, 777, 786, 788, 789, 799, 809, 818, 823, 828, 850, 855, 858, 887, 890, 891, 895, 899, 902, 903, 929, 936, 940, 945, 953, 962, 965, 968, 971, 981, 982, 988, 993, 995, 999, 1016, 1026, 1045, 1047, 1049, 1051, 1053, 1061, 1062, 1073, 1074, 1077, 1089, 1111, 1119, 1135, 1147, 1158, 1160, 1163, 1174, 1175, 1190, 1194, 1195, 1197, 1203, 1209, 1214, 1220, 1248, 1251, 1256, 1258, 1264, 1269, 1284, 1291, 1292, 1296, 1297, 1299, 1300, 1301, 1302, 1319, 1327, 1334, 1341, 1342, 1360, 1364, 1377, 1378, 1379, 1380, 1389, 1403, 1414, 1415, 1417, 1418, 1420, 1422, 1431, 1438, 1439, 1450, 1452, 1462, 1480, 1481, 1492, 1507, 1509, 1513, 1516, 1526, 1528, 1529, 1531, 1536, 1547, 1561, 1596, 1597, 1611, 1612, 1616, 1636, 1643, 1644, 1650, 1657, 1668, 1670, 1684, 1687, 1695, 1697, 1703, 1707, 1711, 1714, 1716, 1733, 1737, 1738, 1744, 1749, 1754, 1758, 1761, 1763, 1765, 1775, 1788, 1790, 1791, 1818, 1826, 1837, 1847, 1860, 1861, 1865, 1873, 1876, 1882, 1888, 1896, 1904, 1908, 1918, 1922, 1943, 1948, 1949, 1954, 1959, 1961, 1970, 1971, 1979, 1984, 1987, 1995, 1997, 1999, 2017, 2019, 2020, 2025, 2030, 2036, 2043, 2044, 2049, 2059, 2063, 2064, 2067, 2077, 2079, 2084, 2090, 2092, 2116, 2123, 2124, 2132, 2135, 2139, 2141, 2152, 2156, 2158, 2160, 2178, 2179, 2181, 2183, 2184, 2188, 2190, 2196, 2199, 2201, 2208, 2209, 2217, 2237, 2240, 2244, 2250, 2252, 2254, 2261, 2265, 2290, 2295, 2296, 2297, 2299, 2327, 2338, 2340, 2341, 2342, 2349, 2351, 2373, 2383, 2387, 2389, 2391, 2414, 2420, 2427, 2428, 2429, 2432, 2434, 2448, 2453, 2457, 2467, 2470, 2477, 2480, 2481, 2492, 2498, 2501, 2509, 2511, 2514, 2515, 2527, 2539, 2543, 2545, 2551, 2553, 2571, 2580, 2582, 2587, 2590, 2595, 2604, 2607, 2612, 2616, 2617, 2618, 2622, 2625, 2635, 2637, 2640, 2649, 2663, 2664, 2666, 2695, 2705, 2709, 2719, 2724, 2738, 2739, 2741, 2751, 2753, 2757, 2759, 2764, 2768, 2772, 2773, 2777, 2781, 2782, 2784, 2790, 2796, 2806, 2807, 2810, 2824, 2836, 2845, 2857, 2862, 2867, 2882, 2884, 2896, 2908, 2909, 2934, 2944, 2949, 2954, 2957, 2958, 2972, 2975, 2976, 2986, 2989, 2993, 2996, 3004, 3008, 3012, 3018, 3031, 3055, 3056, 3061, 3068, 3069, 3072, 3079, 3080, 3082, 3096, 3104, 3130, 3134, 3136, 3140, 3144, 3146, 3150, 3167, 3174, 3187, 3191, 3192, 3204, 3207, 3221, 3227, 3234, 3236, 3244, 3246, 3254, 3262, 3276, 3286, 3288, 3290, 3291, 3294, 3295, 3296, 3297, 3308, 3334, 3340, 3352, 3361, 3364, 3378, 3390, 3392, 3395, 3397, 3401, 3403, 3404, 3406, 3407, 3418, 3423, 3424, 3446, 3452, 3454, 3458, 3471, 3476, 3477, 3487, 3496, 3503, 3506, 3508, 3510, 3518, 3526, 3532, 3534, 3535, 3537, 3546, 3557, 3567, 3577, 3580, 3581, 3584, 3586, 3593, 3594, 3596, 3598, 3605, 3610, 3614, 3624, 3625, 3632, 3677, 3678, 3687, 3695, 3713, 3723, 3732, 3737, 3745, 3762, 3765, 3767, 3773, 3779, 3786, 3802, 3805, 3806, 3810, 3818, 3827, 3829, 3834, 3842, 3850, 3852, 3853, 3856, 3867, 3875, 3876, 3882, 3884, 3891, 3895, 3903, 3905, 3919, 3931, 3936, 3937, 3941, 3958, 3968, 3969, 3977, 3987, 3998, 3999, 4005, 4008, 4011, 4022, 4023, 4026, 4028, 4039, 4044, 4050, 4064, 4075, 4081, 4087, 4095, 4107, 4111, 4118, 4122, 4125, 4129, 4136, 4138, 4141, 4151, 4152, 4155, 4169, 4171, 4173, 4180, 4182, 4194, 4197, 4200, 4203, 4206, 4226, 4227, 4228, 4231, 4233, 4237, 4238, 4245, 4262, 4290, 4297, 4299, 4301, 4303, 4307, 4309, 4315, 4320, 4322, 4325, 4326, 4338, 4354, 4357, 4376, 4383, 4384, 4385, 4386, 4395, 4400, 4409, 4411, 4414, 4416, 4422, 4425, 4431, 4432, 4437, 4439, 4440, 4448, 4453, 4470, 4472, 4473, 4474, 4475, 4480, 4481, 4482, 4483, 4493, 4503, 4514, 4516, 4523, 4559, 4566, 4578, 4579, 4587, 4601, 4605, 4618, 4622, 4623, 4624, 4627, 4628, 4631, 4638, 4640, 4648, 4652, 4656, 4657, 4666, 4669, 4672, 4675, 4676, 4684, 4685, 4689, 4704, 4714, 4717, 4720, 4721, 4723, 4726, 4728, 4729, 4744, 4753, 4755, 4760, 4761, 4767, 4770, 4773, 4780, 4781, 4785, 4787, 4792, 4794, 4801, 4802, 4825, 4826, 4834, 4835, 4836, 4842, 4843, 4860, 4871, 4876, 4884, 4886, 4888, 4908, 4918, 4922, 4923, 4924, 4925, 4931, 4932, 4935, 4941, 4944, 4947, 4949, 4954, 4957, 4959, 4962, 4967, 4980, 5003, 5004, 5008, 5019, 5023, 5031, 5036, 5039, 5040, 5042, 5050, 5052, 5053, 5056, 5059, 5073, 5075, 5077, 5082, 5083, 5093, 5099, 5101, 5103, 5112, 5114, 5115, 5145, 5147, 5152, 5160, 5177, 5179, 5180, 5182, 5183, 5187, 5200, 5205, 5206, 5210, 5217, 5220, 5231, 5235, 5253, 5260, 5263, 5269, 5270, 5276, 5277, 5278, 5299, 5313, 5329, 5338, 5343, 5346, 5350, 5352, 5368, 5376, 5389, 5395, 5396, 5401, 5418, 5421, 5433, 5436, 5438, 5439, 5441, 5453, 5458, 5459, 5460, 5466, 5473, 5474, 5478, 5482, 5483, 5484, 5499, 5514, 5515, 5516, 5527, 5529, 5539, 5542, 5545, 5549, 5556, 5579, 5583, 5584, 5592, 5595, 5603, 5613, 5618, 5628, 5630, 5642, 5643, 5658, 5666, 5671, 5678, 5679, 5684, 5688, 5700, 5708, 5709, 5710, 5715, 5734, 5735, 5741, 5744, 5748, 5753, 5756, 5759, 5769, 5770, 5772, 5786, 5789, 5792, 5794, 5799, 5812, 5826, 5839, 5852, 5853, 5858, 5862, 5870, 5872, 5877, 5887, 5889, 5896, 5900, 5915, 5923, 5926, 5937, 5938, 5944, 5945, 5946, 5948, 5957, 5958, 5960, 5963, 5971, 5978, 5981, 5982, 5983, 5996, 6003, 6009, 6013, 6019, 6020, 6021, 6022, 6027, 6032, 6047, 6049, 6055, 6079, 6081, 6083, 6089, 6093, 6094, 6112, 6131, 6145, 6148, 6159, 6177, 6190, 6205, 6206, 6210, 6215, 6219, 6222, 6228, 6232, 6239, 6245, 6261, 6262, 6271, 6272, 6274, 6275, 6276, 6280, 6281, 6282, 6284, 6285, 6306, 6309, 6311, 6322, 6325, 6327, 6330, 6334, 6335, 6338, 6339, 6342, 6353, 6354, 6364, 6365, 6367, 6369, 6374, 6375, 6381, 6398, 6401, 6402, 6407, 6421, 6426, 6439, 6443, 6448, 6457, 6459, 6470, 6473, 6495, 6500, 6506, 6517, 6519, 6520, 6533, 6541, 6544, 6545, 6554, 6556, 6568, 6569, 6572, 6578, 6584, 6588, 6591, 6593, 6595, 6597, 6606, 6617, 6630, 6631, 6639, 6640, 6643, 6647, 6648, 6653, 6657, 6659, 6662, 6670, 6674, 6688, 6689, 6692, 6695, 6697, 6704, 6711, 6712, 6715, 6716, 6723, 6725, 6733, 6734, 6758, 6762, 6774, 6779, 6786, 6789, 6790, 6799, 6802, 6808, 6819, 6824, 6829, 6841, 6852, 6854, 6855, 6860, 6862, 6870, 6879, 6892, 6894, 6907, 6913, 6915, 6931, 6937, 6945, 6947, 6955, 6960, 6965, 6970, 6972, 6977, 6987, 6992, 7000, 7002, 7007, 7020, 7022, 7030, 7032, 7035, 7036, 7041, 7042, 7048, 7057, 7065, 7067, 7069, 7076, 7077, 7081, 7082, 7086, 7090, 7091, 7094, 7102, 7104, 7105, 7124, 7133, 7139, 7145, 7147, 7154, 7160, 7163, 7164, 7168, 7172, 7176, 7180, 7185, 7188, 7192, 7195, 7205, 7215, 7217, 7224, 7237, 7245, 7248, 7250, 7257, 7258, 7260, 7269, 7282, 7285, 7289, 7291, 7292, 7314, 7319, 7331, 7334, 7337, 7342, 7344, 7350, 7356, 7363, 7396, 7398, 7400, 7403, 7417, 7418, 7419, 7436, 7441, 7454, 7456, 7459, 7472, 7491, 7494, 7495, 7496, 7502, 7504, 7507, 7519, 7526, 7531, 7535, 7537, 7545, 7554, 7568, 7577, 7588, 7592, 7596, 7609, 7619, 7622, 7624, 7627, 7630, 7640, 7662, 7666, 7668, 7671, 7674, 7680, 7698, 7705, 7730, 7746, 7751, 7765, 7774, 7775, 7780, 7796, 7809, 7832, 7836, 7845, 7847, 7850, 7851, 7854, 7866, 7876, 7890, 7893, 7899, 7909, 7910, 7929, 7930, 7937, 7942, 7946, 7958, 7962, 7963, 7970, 7979, 7980, 7981, 7988, 8001, 8007, 8010, 8017, 8023, 8024, 8039, 8040, 8041, 8043, 8045, 8047, 8055, 8059, 8080, 8085, 8087, 8090, 8104, 8112, 8133, 8135, 8136, 8140, 8143, 8144, 8155, 8157, 8159, 8164, 8168, 8172, 8197, 8209, 8224, 8227, 8234, 8239, 8241, 8247, 8259, 8264, 8274, 8275, 8276, 8278, 8279, 8283, 8284, 8285, 8287, 8301, 8305, 8306, 8311, 8315, 8321, 8322, 8325, 8328, 8335, 8337, 8338, 8347, 8354, 8355, 8366, 8370, 8373, 8377, 8402, 8421, 8429, 8435, 8439, 8444, 8445, 8446, 8461, 8462, 8474, 8479, 8489, 8490, 8491, 8492, 8503, 8506, 8508, 8516, 8528, 8537, 8539, 8541, 8542, 8548, 8551, 8572, 8585, 8586, 8595, 8606, 8607, 8620, 8622, 8625, 8630, 8632, 8638, 8642, 8644, 8647, 8648, 8651, 8654, 8660, 8663, 8664, 8671, 8673, 8677, 8690, 8702, 8708, 8710, 8718, 8729, 8733, 8745, 8748, 8770, 8771, 8777, 8780, 8791, 8827, 8831, 8838, 8840, 8841, 8849, 8858, 8867, 8874, 8879, 8897, 8899, 8905, 8913, 8915, 8917, 8918, 8925, 8929, 8935, 8938, 8947, 8959, 8968, 8981, 8985, 8988, 8991, 8994, 8997, 9005, 9017, 9018, 9019, 9021, 9031, 9037, 9042, 9047, 9056, 9059, 9066, 9073, 9077, 9084, 9088, 9093, 9094, 9101, 9107, 9123, 9127, 9129, 9139, 9142, 9155, 9158, 9164, 9168, 9174, 9181, 9182, 9190, 9206, 9208, 9210, 9211, 9215, 9228, 9232, 9238, 9240, 9242, 9246, 9257, 9263, 9264, 9275, 9278, 9279, 9280, 9285, 9296, 9299, 9308, 9330, 9340, 9344, 9350, 9352, 9353, 9354, 9357, 9361, 9362, 9368, 9377, 9381, 9397, 9399, 9404, 9411, 9416, 9418, 9424, 9427, 9431, 9435, 9436, 9447, 9457, 9458, 9461, 9477, 9480, 9485, 9486, 9489, 9493, 9496, 9503, 9508, 9513, 9517, 9530, 9531, 9538, 9544, 9551, 9552, 9565, 9570, 9579, 9584, 9585, 9588, 9592, 9605, 9607, 9614, 9622, 9625, 9626, 9627, 9628, 9631, 9639, 9642, 9671, 9679, 9689, 9698, 9705, 9706, 9712, 9721, 9724, 9737, 9745, 9748, 9752, 9772, 9792, 9796, 9801, 9811, 9815, 9834, 9835, 9836, 9851, 9854, 9876, 9900, 9901, 9907, 9908, 9913, 9918, 9925, 9938, 9945, 9947, 9950, 9955, 9963, 9971, 9973, 9975, 9979, 9994, 9997, 9998, 9999]\n"
     ]
    }
   ],
   "source": [
    "misclassifications = []\n",
    "\n",
    "for i in range(len(y_test)):\n",
    "    if(hypothesis(x_test[i]) != int(y_test[i])):\n",
    "        misclassifications.append(i)\n",
    "\n",
    "print(misclassifications)"
   ]
  },
  {
   "cell_type": "markdown",
   "metadata": {},
   "source": [
    "Then calculate our **error rate**, which is the percentage of errors obtained when classifying our \"training set\"."
   ]
  },
  {
   "cell_type": "code",
   "execution_count": 16,
   "metadata": {},
   "outputs": [
    {
     "name": "stdout",
     "output_type": "stream",
     "text": [
      "0.1629\n"
     ]
    }
   ],
   "source": [
    "print(len(misclassifications)/10000)"
   ]
  },
  {
   "cell_type": "markdown",
   "metadata": {},
   "source": [
    "It is interesting to see **which images** our classifier has not classified correctly. Visualize one of the errors $x$ and compare it to $h(x)$. Is this an understandable mistake?"
   ]
  },
  {
   "cell_type": "code",
   "execution_count": 17,
   "metadata": {},
   "outputs": [
    {
     "data": {
      "image/png": "[encoded data removed]",
      "text/plain": [
       "<Figure size 432x288 with 1 Axes>"
      ]
     },
     "metadata": {
      "needs_background": "light"
     },
     "output_type": "display_data"
    }
   ],
   "source": [
    "#Convert our vector from one dimension to two dimensions\n",
    "matrix = np.reshape(x_test[misclassifications[0]], (28,28))\n",
    "\n",
    "plt.imshow(matrix, cmap='gray')\n",
    "\n",
    "plt.show()"
   ]
  },
  {
   "cell_type": "code",
   "execution_count": 18,
   "metadata": {},
   "outputs": [
    {
     "name": "stdout",
     "output_type": "stream",
     "text": [
      "2\n"
     ]
    }
   ],
   "source": [
    "print(hypothesis(x_test[5611]))"
   ]
  },
  {
   "cell_type": "markdown",
   "metadata": {},
   "source": [
    "We see that the classifier thought that the '8' above was a '2'."
   ]
  },
  {
   "cell_type": "markdown",
   "metadata": {},
   "source": [
    "# Conclusion\n",
    "\n",
    "We have just completed this implementation of the naive Bayes classifier. Some relevant questions arise in relation to this exercise:\n",
    "\n",
    "1. If we hadn't rounded each pixel to a binary value, what **distribution** would we have used to model $P(x_{ji} = k), \\ 0 \\leq k \\leq 255?$ What **problem** would we have had if we had decided to include these probabilities in our model?\n",
    "\n",
    "2. Was the **Laplace smoothing** really necessary? What would have happened if we had not taken the smoothing into account? Is our $h(x)$ still valid? Also, what error rate indicates a model that doesn't work? Is it 100%?\n",
    "\n",
    "3. As mentioned earlier, calculating $\\log(h(x))$ is equivalent to calculating $h(x)$ since $\\log(x)$ is a **monotonically increasing** function. Could we use a **monotonically decreasing** function $f(x)$ to compute $f(h(x))$ and get the same result, or should we make a modification to our $h(x)$?\n",
    "\n",
    "### For maniacs\n",
    "\n",
    "This model uses the **naive** assumption that there is no correlation between the pixels in our images. There is a Gaussian variant of the Bayes classifier that takes this into account. The next step in this exercise would be to implement it. A word of encouragement: it reduces the error rate to less than 5%. See pages 8 to 14: http://www-inst.eecs.berkeley.edu/~cs70/sp15/notes/n21.pdf\n",
    "\n",
    "Cheers!\n",
    "\n",
    "Arnaud"
   ]
  }
 ],
 "metadata": {
  "kernelspec": {
   "display_name": "Python 3",
   "language": "python",
   "name": "python3"
  },
  "language_info": {
   "codemirror_mode": {
    "name": "ipython",
    "version": 3
   },
   "file_extension": ".py",
   "mimetype": "text/x-python",
   "name": "python",
   "nbconvert_exporter": "python",
   "pygments_lexer": "ipython3",
   "version": "3.7.6"
  }
 },
 "nbformat": 4,
 "nbformat_minor": 4
}
