{
 "cells": [
  {
   "cell_type": "markdown",
   "metadata": {},
   "source": [
    "# Demonstration 1 - IFT 3700\n",
    "\n",
    "### Topics covered :\n",
    "\n",
    "- How the demonstrations work\n",
    "- Presentation of the \"Jupyter Notebook\" format\n",
    "- Cognitive bias:\n",
    "  1. Multiple comparisons problem\n",
    "  \n",
    "  - Review of p-values\n",
    "  - Bonferroni correction\n",
    "  \n",
    "  2. Regression to the mean\n",
    "  3. Bayes' Theorem\n",
    "- Presentation of the MNIST dataset\n",
    "- Implementation of a classification method : \"Naive Bayesian Classification\"\n",
    "\n",
    "## Theoretical part:\n",
    "\n",
    "### Multiple comparisons problem\n",
    "\n",
    "**P value:** Probability that we would observe the same result if our hypothesis was wrong. In other words, we believe we are seeing a significant result when it was actually just chance This amounts to a Type 1 error. We obviously want to avoid making these mistakes.\n",
    "\n",
    "In summary: small value p $\\\\implies$ greater certainty of the veracity of our results.\n",
    "\n",
    "The multiple comparisons problem arises when we test a **set** of hypotheses with a certain p-value. As an example, let's take a scenario where we test 30 hypotheses with a p-value of 0.05, or 5%. Let's assume that **every single one of our hypotheses is wrong**. What is the probability of observing at least one significant outcome by chance?\n",
    "\n",
    "The probability that we have at least one significant result is the complement of the probability of observing none.\n",
    "\n",
    "We have:\n",
    "\n",
    "$$P(at\\\\ least\\\\ one\\\\ significant\\\\ result\\\\) = 1 - P(no\\\\ significant\\\\ result) $$$\n",
    "\n",
    "$$= 1 - (0.95)\\^{30}$$\n",
    "\n",
    "$$\\\\approx 79%$$\n",
    "\n",
    "So we see that it is very likely that we would get a significant result that would cause us to make a type 1 error.\n",
    "\n",
    "*How can we solve this problem?*\n",
    "\n",
    "### Bonferroni correction\n",
    "\n",
    "The Bonferroni correction corrects this problem in a fairly simple way by dividing the p-value by the number of hypotheses we want to posit:\n",
    "\n",
    "Let $n$ be the number of hypotheses, our p-value becomes $\\\\frac{\\\\alpha}{n}$ where $\\\\alpha$ was our original p-value.\n",
    "\n",
    "We now notice that our original calculation is adjusted:\n",
    "\n",
    "$$P(at\\\\ least\\\\ one\\\\ significant\\\\ result\\\\) = 1 - P(no\\\\ significant\\\\ result) $$$\n",
    "\n",
    "$$ = 1 - (1 - \\\\frac{\\\\alpha}{n})\\^{30}$$\n",
    "\n",
    "$$= 1 - (1 - \\\\frac{0.05}{30})\\^{30}$$\n",
    "\n",
    "$$\\\\approx 1 - (1 - 0.00167)\\^{30}$$\n",
    "\n",
    "$$\\\\approx 1 - 0.9512$$\n",
    "\n",
    "$$\\\\approx 5%$$\n",
    "\n",
    "However, this correction takes into account that all hypothesis tests are *independent*. If there is a positive correlation between them, the Bonferroni correction will result in an **overly conservative**p-value. This will result in Type 2 errors, i.e. rejecting a significant result when it is **valid**.\n",
    "\n",
    "Other more common and effective approaches exist to eliminate this problem, such as the Holm-Bonferroni method and Sidak correction. They are much less naive and more interesting. I invite you to take a look at them if you're interested.\n",
    "\n",
    "### Regression toward the mean\n",
    "\n",
    "In summary, it is the principle that if the value of a variable seems extreme during an initial test, it will probably be closer to the mean in the second test. This may lead us to erroneous conclusions.\n",
    "\n",
    "The classic example is to take a class of students and have them randomly answer a test composed of 100 true or false questions, *while* *taking* *into* *account that there is no negative correction ;)*. We obviously expect the class average to be 50%. However, some students will be lucky and will have above-average grades and vice versa for the unlucky students. In short, we will have an approximately normal distribution of scores with 50% as an overall average.\n",
    "\n",
    "If we repeat the experiment with the students who were lucky in the first exam, we will obtain a new normal distribution centered at 50%. Same scenario for the students who were less fortunate on the first test.\n",
    "\n",
    "This gives the illusion that students who scored poorly on the first exam improved on the second and that students who scored well on the first exam did not study enough on the second. However, we know very well that this is not the case, since all students answer randomly!\n",
    "\n",
    "This is called regression toward the mean. Obviously, the previous example is very unrealistic. In real life, these are often scenarios where several factors affect a certain outcome, not just luck. This is what leads us to form hypotheses to explain certain trends.\n",
    "\n",
    "In short, it must be realized that the \"natural tendency\" of regression toward the mean can sometimes fully explain results when one could make erroneous assumptions to explain them.\n",
    "\n",
    "I recommend that you watch a very good and fairly popular video that deals with an instance of this cognitive bias, a study that tried to determine whether positive or negative reinforcement was more effective in the training of Israeli military fighter pilots:\n",
    "\n",
    "https://www.youtube.com/watch?v=1tSqSMOyNFE\n",
    "\n",
    "### Bayes' Theorem\n",
    "\n",
    "As discussed during the course with the example of a medical test for a relatively rare disease that sometimes gives false positives, Bayes' theorem is used to calculate **conditional probabilities**.\n",
    "\n",
    "The formula is as follows:\n",
    "\n",
    "$$P(A\\|B) = \\\\frac{P(B\\|A) \\\\cdot P(A)}{P(B)}$$\n",
    "\n",
    "This formula can be obtained by combining two instances of the definition of conditional probability:\n",
    "\n",
    "$$P(A\\|B) = \\\\frac{P(A \\\\cap B)}{P(B)}$$\n",
    "\n",
    "Likewise,\n",
    "\n",
    "$$P(B\\|A) = \\\\frac{P(B \\\\cap A)}{P(A)}$$\n",
    "\n",
    "Since $P(B \\\\cap A) = P(A \\\\cap B)$,\n",
    "\n",
    "$$P(A\\|B)\\\\cdot P(B) = P(B\\|A)\\\\cdot P(A)$$\n",
    "\n",
    "Finally, dividing the two sides by $P(B)$ gives us:\n",
    "\n",
    "$$P(A\\|B) = \\\\frac{P(B\\|A) \\\\cdot P(A)}{P(B)}$$\n",
    "\n",
    "## Practical part :\n",
    "\n",
    "We can already dive into the practical side now that we know Bayes' Theorem. We can implement the naive Bayes classifier using the MNIST dataset. To do so, it would be advantageous to be comfortable with Jupyter and Python 3. See the tutorials below if you are not familiar with this environment:\n",
    "\n",
    "https://jupyter-notebook-beginner-guide.readthedocs.io/en/latest/what\\_is\\_jupyter.html\n",
    "\n",
    "https://docs.python.org/3/tutorial/index.html\n",
    "\n",
    "# WARNING:\n",
    "\n",
    "**The following exercice can be completed in full by following the document below (pages 1 to 8). If you want to complete the entire implementation by yourself (recommended), do not read the rest of this notebook. However, my biased opinion is that this notebook is much clearer and more intuitive than this document. If you want to be guided, you can follow the steps described in the rest of the notebook. A version of the notebook with the missing code will also be published on the website. If you choose to do this on your own, don't forget to go back to the notebook and read the \"Conclusion\" section.**\n",
    "\n",
    "http://www-inst.eecs.berkeley.edu/~cs70/sp15/notes/n21.pdf\n",
    "\n",
    "Let's first look at how to use the MNIST dataset for this exercise.\n",
    "\n",
    "### MNIST dataset\n",
    "\n",
    "The MNIST dataset is a large database of images of handwritten numbers. These images are $28 \\\\times $28 pixels in size. In the file *\"mnist\\_train.csv\"* that we will use, these data are organized as a table (see CSV data format). If you open this file in Excel or a text editor, you will see that it consists of 60,001 rows and 785 columns. These columns are separated by commas, hence the name CSV (Comma Separated Values). Each line corresponds to a data point. The first column represents the label, which is the real class of the figure. The following columns represent the value of each pixel in the image. These columns are the dimensions of the dataset.\n",
    "\n",
    "Since there are $28 times 28 = $784 pixels in the image, we have a total of 785 columns including the label. The 60,001 rows are explained by the 60,000 data and the first row containing the column identifiers. Each piece of data is actually a vector of 784 dimensions composed of integers ranging from 0 to 255 for each dimension, as well as the label of that data. These numbers represent the intensity of a grayscale pixel, with 0 being the black end of the scale and 255 being the white end.\n",
    "\n",
    "### Importing MNIST into the Jupyter Notebook\n",
    "\n",
    "We have to use the `csv` module to import the file *\"mnist\\_train.csv\"*. This file is available on the course website. To simplify the path to be specified in the `open()`function, I suggest you put this file in the same directory (folder) as this notebook. Here's how to get a list of lines from the file:"
   ]
  },
  {
   "cell_type": "code",
   "execution_count": 1,
   "metadata": {},
   "outputs": [
    {
     "ename": "FileNotFoundError",
     "evalue": "[Errno 2] No such file or directory: 'mnist_train.csv'",
     "output_type": "error",
     "traceback": [
      "\u001b[0;31m---------------------------------------------------------------------------\u001b[0m",
      "\u001b[0;31mFileNotFoundError\u001b[0m                         Traceback (most recent call last)",
      "\u001b[0;32m<ipython-input-1-99e0706358c8>\u001b[0m in \u001b[0;36m<module>\u001b[0;34m\u001b[0m\n\u001b[1;32m      1\u001b[0m \u001b[0;32mimport\u001b[0m \u001b[0mcsv\u001b[0m\u001b[0;34m\u001b[0m\u001b[0;34m\u001b[0m\u001b[0m\n\u001b[1;32m      2\u001b[0m \u001b[0;34m\u001b[0m\u001b[0m\n\u001b[0;32m----> 3\u001b[0;31m \u001b[0mdata\u001b[0m \u001b[0;34m=\u001b[0m \u001b[0mopen\u001b[0m\u001b[0;34m(\u001b[0m\u001b[0;34m'mnist_train.csv'\u001b[0m\u001b[0;34m)\u001b[0m\u001b[0;34m\u001b[0m\u001b[0;34m\u001b[0m\u001b[0m\n\u001b[0m\u001b[1;32m      4\u001b[0m \u001b[0;34m\u001b[0m\u001b[0m\n\u001b[1;32m      5\u001b[0m \u001b[0mcsv_file\u001b[0m \u001b[0;34m=\u001b[0m \u001b[0mcsv\u001b[0m\u001b[0;34m.\u001b[0m\u001b[0mreader\u001b[0m\u001b[0;34m(\u001b[0m\u001b[0mdata\u001b[0m\u001b[0;34m)\u001b[0m\u001b[0;34m\u001b[0m\u001b[0;34m\u001b[0m\u001b[0m\n",
      "\u001b[0;31mFileNotFoundError\u001b[0m: [Errno 2] No such file or directory: 'mnist_train.csv'"
     ]
    }
   ],
   "source": [
    "import csv\n",
    "\n",
    "data = open('mnist_train.csv')\n",
    "\n",
    "csv_file = csv.reader(data)\n",
    "\n",
    "data_points = []\n",
    "\n",
    "for row in csv_file:\n",
    "    data_points.append(row)\n",
    "\n",
    "#On enlève la première ligne, soit les \"headers\" de nos colonnes\n",
    "data_points.pop(0)\n",
    "\n",
    "#Imprime la première ligne de notre training set\n",
    "print(data_points[0])\n",
    "\n",
    "data.close()"
   ]
  },
  {
   "cell_type": "markdown",
   "metadata": {},
   "source": [
    "We see that the first data point of our training set is a 5, since that is the first element of this line, i.e. the label. What is the type of value '5'?"
   ]
  },
  {
   "cell_type": "code",
   "execution_count": 2,
   "metadata": {},
   "outputs": [
    {
     "name": "stdout",
     "output_type": "stream",
     "text": [
      "<class 'str'>\n"
     ]
    }
   ],
   "source": [
    "print(type(data_points[0][0]))"
   ]
  },
  {
   "cell_type": "markdown",
   "metadata": {},
   "source": [
    "`data_points` is therefore a list of lists of strings. We want to work with ints and not strings. Here's how we can convert them. If you don't understand these nested loops, see this link: https://docs.python.org/3/tutorial/controlflow.html#for-statements\n",
    "\n",
    "If you run the cell below, you will see that the number of data results **in a significant delay**. This is the case for **several** other cells below. The `In [*]` symbol to the left of the cell indicates that the cell is being executed."
   ]
  },
  {
   "cell_type": "code",
   "execution_count": 3,
   "metadata": {},
   "outputs": [
    {
     "name": "stdout",
     "output_type": "stream",
     "text": [
      "[5, 0, 0, 0, 0, 0, 0, 0, 0, 0, 0, 0, 0, 0, 0, 0, 0, 0, 0, 0, 0, 0, 0, 0, 0, 0, 0, 0, 0, 0, 0, 0, 0, 0, 0, 0, 0, 0, 0, 0, 0, 0, 0, 0, 0, 0, 0, 0, 0, 0, 0, 0, 0, 0, 0, 0, 0, 0, 0, 0, 0, 0, 0, 0, 0, 0, 0, 0, 0, 0, 0, 0, 0, 0, 0, 0, 0, 0, 0, 0, 0, 0, 0, 0, 0, 0, 0, 0, 0, 0, 0, 0, 0, 0, 0, 0, 0, 0, 0, 0, 0, 0, 0, 0, 0, 0, 0, 0, 0, 0, 0, 0, 0, 0, 0, 0, 0, 0, 0, 0, 0, 0, 0, 0, 0, 0, 0, 0, 0, 0, 0, 0, 0, 0, 0, 0, 0, 0, 0, 0, 0, 0, 0, 0, 0, 0, 0, 0, 0, 0, 0, 0, 0, 3, 18, 18, 18, 126, 136, 175, 26, 166, 255, 247, 127, 0, 0, 0, 0, 0, 0, 0, 0, 0, 0, 0, 0, 30, 36, 94, 154, 170, 253, 253, 253, 253, 253, 225, 172, 253, 242, 195, 64, 0, 0, 0, 0, 0, 0, 0, 0, 0, 0, 0, 49, 238, 253, 253, 253, 253, 253, 253, 253, 253, 251, 93, 82, 82, 56, 39, 0, 0, 0, 0, 0, 0, 0, 0, 0, 0, 0, 0, 18, 219, 253, 253, 253, 253, 253, 198, 182, 247, 241, 0, 0, 0, 0, 0, 0, 0, 0, 0, 0, 0, 0, 0, 0, 0, 0, 0, 0, 80, 156, 107, 253, 253, 205, 11, 0, 43, 154, 0, 0, 0, 0, 0, 0, 0, 0, 0, 0, 0, 0, 0, 0, 0, 0, 0, 0, 0, 14, 1, 154, 253, 90, 0, 0, 0, 0, 0, 0, 0, 0, 0, 0, 0, 0, 0, 0, 0, 0, 0, 0, 0, 0, 0, 0, 0, 0, 0, 139, 253, 190, 2, 0, 0, 0, 0, 0, 0, 0, 0, 0, 0, 0, 0, 0, 0, 0, 0, 0, 0, 0, 0, 0, 0, 0, 0, 11, 190, 253, 70, 0, 0, 0, 0, 0, 0, 0, 0, 0, 0, 0, 0, 0, 0, 0, 0, 0, 0, 0, 0, 0, 0, 0, 0, 0, 35, 241, 225, 160, 108, 1, 0, 0, 0, 0, 0, 0, 0, 0, 0, 0, 0, 0, 0, 0, 0, 0, 0, 0, 0, 0, 0, 0, 0, 81, 240, 253, 253, 119, 25, 0, 0, 0, 0, 0, 0, 0, 0, 0, 0, 0, 0, 0, 0, 0, 0, 0, 0, 0, 0, 0, 0, 0, 45, 186, 253, 253, 150, 27, 0, 0, 0, 0, 0, 0, 0, 0, 0, 0, 0, 0, 0, 0, 0, 0, 0, 0, 0, 0, 0, 0, 0, 16, 93, 252, 253, 187, 0, 0, 0, 0, 0, 0, 0, 0, 0, 0, 0, 0, 0, 0, 0, 0, 0, 0, 0, 0, 0, 0, 0, 0, 0, 249, 253, 249, 64, 0, 0, 0, 0, 0, 0, 0, 0, 0, 0, 0, 0, 0, 0, 0, 0, 0, 0, 0, 0, 0, 46, 130, 183, 253, 253, 207, 2, 0, 0, 0, 0, 0, 0, 0, 0, 0, 0, 0, 0, 0, 0, 0, 0, 0, 0, 0, 39, 148, 229, 253, 253, 253, 250, 182, 0, 0, 0, 0, 0, 0, 0, 0, 0, 0, 0, 0, 0, 0, 0, 0, 0, 0, 24, 114, 221, 253, 253, 253, 253, 201, 78, 0, 0, 0, 0, 0, 0, 0, 0, 0, 0, 0, 0, 0, 0, 0, 0, 0, 23, 66, 213, 253, 253, 253, 253, 198, 81, 2, 0, 0, 0, 0, 0, 0, 0, 0, 0, 0, 0, 0, 0, 0, 0, 0, 18, 171, 219, 253, 253, 253, 253, 195, 80, 9, 0, 0, 0, 0, 0, 0, 0, 0, 0, 0, 0, 0, 0, 0, 0, 0, 55, 172, 226, 253, 253, 253, 253, 244, 133, 11, 0, 0, 0, 0, 0, 0, 0, 0, 0, 0, 0, 0, 0, 0, 0, 0, 0, 0, 136, 253, 253, 253, 212, 135, 132, 16, 0, 0, 0, 0, 0, 0, 0, 0, 0, 0, 0, 0, 0, 0, 0, 0, 0, 0, 0, 0, 0, 0, 0, 0, 0, 0, 0, 0, 0, 0, 0, 0, 0, 0, 0, 0, 0, 0, 0, 0, 0, 0, 0, 0, 0, 0, 0, 0, 0, 0, 0, 0, 0, 0, 0, 0, 0, 0, 0, 0, 0, 0, 0, 0, 0, 0, 0, 0, 0, 0, 0, 0, 0, 0, 0, 0, 0, 0, 0, 0, 0, 0, 0, 0, 0, 0, 0, 0, 0, 0, 0, 0, 0, 0, 0, 0, 0, 0, 0, 0]\n"
     ]
    }
   ],
   "source": [
    "for i in range(len(data_points)):\n",
    "    for j in range(0,785):\n",
    "            data_points[i][j] = int(data_points[i][j])\n",
    "\n",
    "print(data_points[0])"
   ]
  },
  {
   "cell_type": "markdown",
   "metadata": {},
   "source": [
    "It will be useful to separate our label column from the rest of the data. We're going to create a $60 \\\\ 000 \\\\times 1$ dimensional vector that we’ll call `y_train`. This vector will include our labels, also called \"targets\", since we will try to predict these with our model. The rest of the data, a matrix of size $784 \\\\times 60 \\\\ 000$, will be named `x_train`."
   ]
  },
  {
   "cell_type": "code",
   "execution_count": 4,
   "metadata": {},
   "outputs": [
    {
     "name": "stdout",
     "output_type": "stream",
     "text": [
      "[0, 0, 0, 0, 0, 0, 0, 0, 0, 0, 0, 0, 0, 0, 0, 0, 0, 0, 0, 0, 0, 0, 0, 0, 0, 0, 0, 0, 0, 0, 0, 0, 0, 0, 0, 0, 0, 0, 0, 0, 0, 0, 0, 0, 0, 0, 0, 0, 0, 0, 0, 0, 0, 0, 0, 0, 0, 0, 0, 0, 0, 0, 0, 0, 0, 0, 0, 0, 0, 0, 0, 0, 0, 0, 0, 0, 0, 0, 0, 0, 0, 0, 0, 0, 0, 0, 0, 0, 0, 0, 0, 0, 0, 0, 0, 0, 0, 0, 0, 0, 0, 0, 0, 0, 0, 0, 0, 0, 0, 0, 0, 0, 0, 0, 0, 0, 0, 0, 0, 0, 0, 0, 0, 0, 0, 0, 0, 0, 0, 0, 0, 0, 0, 0, 0, 0, 0, 0, 0, 0, 0, 0, 0, 0, 0, 0, 0, 0, 0, 0, 0, 0, 3, 18, 18, 18, 126, 136, 175, 26, 166, 255, 247, 127, 0, 0, 0, 0, 0, 0, 0, 0, 0, 0, 0, 0, 30, 36, 94, 154, 170, 253, 253, 253, 253, 253, 225, 172, 253, 242, 195, 64, 0, 0, 0, 0, 0, 0, 0, 0, 0, 0, 0, 49, 238, 253, 253, 253, 253, 253, 253, 253, 253, 251, 93, 82, 82, 56, 39, 0, 0, 0, 0, 0, 0, 0, 0, 0, 0, 0, 0, 18, 219, 253, 253, 253, 253, 253, 198, 182, 247, 241, 0, 0, 0, 0, 0, 0, 0, 0, 0, 0, 0, 0, 0, 0, 0, 0, 0, 0, 80, 156, 107, 253, 253, 205, 11, 0, 43, 154, 0, 0, 0, 0, 0, 0, 0, 0, 0, 0, 0, 0, 0, 0, 0, 0, 0, 0, 0, 14, 1, 154, 253, 90, 0, 0, 0, 0, 0, 0, 0, 0, 0, 0, 0, 0, 0, 0, 0, 0, 0, 0, 0, 0, 0, 0, 0, 0, 0, 139, 253, 190, 2, 0, 0, 0, 0, 0, 0, 0, 0, 0, 0, 0, 0, 0, 0, 0, 0, 0, 0, 0, 0, 0, 0, 0, 0, 11, 190, 253, 70, 0, 0, 0, 0, 0, 0, 0, 0, 0, 0, 0, 0, 0, 0, 0, 0, 0, 0, 0, 0, 0, 0, 0, 0, 0, 35, 241, 225, 160, 108, 1, 0, 0, 0, 0, 0, 0, 0, 0, 0, 0, 0, 0, 0, 0, 0, 0, 0, 0, 0, 0, 0, 0, 0, 81, 240, 253, 253, 119, 25, 0, 0, 0, 0, 0, 0, 0, 0, 0, 0, 0, 0, 0, 0, 0, 0, 0, 0, 0, 0, 0, 0, 0, 45, 186, 253, 253, 150, 27, 0, 0, 0, 0, 0, 0, 0, 0, 0, 0, 0, 0, 0, 0, 0, 0, 0, 0, 0, 0, 0, 0, 0, 16, 93, 252, 253, 187, 0, 0, 0, 0, 0, 0, 0, 0, 0, 0, 0, 0, 0, 0, 0, 0, 0, 0, 0, 0, 0, 0, 0, 0, 0, 249, 253, 249, 64, 0, 0, 0, 0, 0, 0, 0, 0, 0, 0, 0, 0, 0, 0, 0, 0, 0, 0, 0, 0, 0, 46, 130, 183, 253, 253, 207, 2, 0, 0, 0, 0, 0, 0, 0, 0, 0, 0, 0, 0, 0, 0, 0, 0, 0, 0, 0, 39, 148, 229, 253, 253, 253, 250, 182, 0, 0, 0, 0, 0, 0, 0, 0, 0, 0, 0, 0, 0, 0, 0, 0, 0, 0, 24, 114, 221, 253, 253, 253, 253, 201, 78, 0, 0, 0, 0, 0, 0, 0, 0, 0, 0, 0, 0, 0, 0, 0, 0, 0, 23, 66, 213, 253, 253, 253, 253, 198, 81, 2, 0, 0, 0, 0, 0, 0, 0, 0, 0, 0, 0, 0, 0, 0, 0, 0, 18, 171, 219, 253, 253, 253, 253, 195, 80, 9, 0, 0, 0, 0, 0, 0, 0, 0, 0, 0, 0, 0, 0, 0, 0, 0, 55, 172, 226, 253, 253, 253, 253, 244, 133, 11, 0, 0, 0, 0, 0, 0, 0, 0, 0, 0, 0, 0, 0, 0, 0, 0, 0, 0, 136, 253, 253, 253, 212, 135, 132, 16, 0, 0, 0, 0, 0, 0, 0, 0, 0, 0, 0, 0, 0, 0, 0, 0, 0, 0, 0, 0, 0, 0, 0, 0, 0, 0, 0, 0, 0, 0, 0, 0, 0, 0, 0, 0, 0, 0, 0, 0, 0, 0, 0, 0, 0, 0, 0, 0, 0, 0, 0, 0, 0, 0, 0, 0, 0, 0, 0, 0, 0, 0, 0, 0, 0, 0, 0, 0, 0, 0, 0, 0, 0, 0, 0, 0, 0, 0, 0, 0, 0, 0, 0, 0, 0, 0, 0, 0, 0, 0, 0, 0, 0, 0, 0, 0, 0, 0, 0, 0]\n"
     ]
    }
   ],
   "source": [
    "y_train = []\n",
    "\n",
    "for row in data_points:\n",
    "    y_train.append(row[0])\n",
    "\n",
    "x_train = []\n",
    "\n",
    "for row in data_points:\n",
    "    x_train.append(row[1:785])\n",
    "    \n",
    "print(x_train[0])"
   ]
  },
  {
   "cell_type": "markdown",
   "metadata": {},
   "source": [
    "We are now ready to view these images. We will use `numpy` and `matplotlib`. I invite you to familiarize yourself with each of these libraries as they will be used regularly in the course. In the code below, we have to convert our `x_train` from a 1 dimensional vector to a 2 dimensional matrix."
   ]
  },
  {
   "cell_type": "code",
   "execution_count": 6,
   "metadata": {},
   "outputs": [
    {
     "data": {
      "image/png": "[encoded data removed]",
      "text/plain": [
       "<Figure size 432x288 with 1 Axes>"
      ]
     },
     "metadata": {},
     "output_type": "display_data"
    }
   ],
   "source": [
    "import numpy as np\n",
    "import matplotlib.pyplot as plt\n",
    "\n",
    "#Conversion de notre vecteur d'une dimension en 2 dimensions\n",
    "matrix = np.reshape(x_train[0], (28,28))\n",
    "\n",
    "plt.imshow(matrix, cmap='gray')\n",
    "\n",
    "#Affiche un 5, tout comme nous avions vu comme premier \"label\" du jeu de données\n",
    "plt.show()"
   ]
  },
  {
   "cell_type": "markdown",
   "metadata": {},
   "source": [
    "To be able to implement the naive Bayes classifier in the next section, we need to transform pixel intensity values from 0 to 255 into binary values 0 and 1; you will see why ;). We can do this by using the `round()`function."
   ]
  },
  {
   "cell_type": "code",
   "execution_count": 7,
   "metadata": {
    "scrolled": true
   },
   "outputs": [
    {
     "name": "stdout",
     "output_type": "stream",
     "text": [
      "[0, 0, 0, 0, 0, 0, 0, 0, 0, 0, 0, 0, 0, 0, 0, 0, 0, 0, 0, 0, 0, 0, 0, 0, 0, 0, 0, 0, 0, 0, 0, 0, 0, 0, 0, 0, 0, 0, 0, 0, 0, 0, 0, 0, 0, 0, 0, 0, 0, 0, 0, 0, 0, 0, 0, 0, 0, 0, 0, 0, 0, 0, 0, 0, 0, 0, 0, 0, 0, 0, 0, 0, 0, 0, 0, 0, 0, 0, 0, 0, 0, 0, 0, 0, 0, 0, 0, 0, 0, 0, 0, 0, 0, 0, 0, 0, 0, 0, 0, 0, 0, 0, 0, 0, 0, 0, 0, 0, 0, 0, 0, 0, 0, 0, 0, 0, 0, 0, 0, 0, 0, 0, 0, 0, 0, 0, 0, 0, 0, 0, 0, 0, 0, 0, 0, 0, 0, 0, 0, 0, 0, 0, 0, 0, 0, 0, 0, 0, 0, 0, 0, 0, 0, 0, 0, 0, 0, 1, 1, 0, 1, 1, 1, 0, 0, 0, 0, 0, 0, 0, 0, 0, 0, 0, 0, 0, 0, 0, 0, 1, 1, 1, 1, 1, 1, 1, 1, 1, 1, 1, 1, 0, 0, 0, 0, 0, 0, 0, 0, 0, 0, 0, 0, 0, 1, 1, 1, 1, 1, 1, 1, 1, 1, 1, 0, 0, 0, 0, 0, 0, 0, 0, 0, 0, 0, 0, 0, 0, 0, 0, 0, 0, 1, 1, 1, 1, 1, 1, 1, 1, 1, 1, 0, 0, 0, 0, 0, 0, 0, 0, 0, 0, 0, 0, 0, 0, 0, 0, 0, 0, 0, 1, 0, 1, 1, 1, 0, 0, 0, 1, 0, 0, 0, 0, 0, 0, 0, 0, 0, 0, 0, 0, 0, 0, 0, 0, 0, 0, 0, 0, 0, 1, 1, 0, 0, 0, 0, 0, 0, 0, 0, 0, 0, 0, 0, 0, 0, 0, 0, 0, 0, 0, 0, 0, 0, 0, 0, 0, 0, 1, 1, 1, 0, 0, 0, 0, 0, 0, 0, 0, 0, 0, 0, 0, 0, 0, 0, 0, 0, 0, 0, 0, 0, 0, 0, 0, 0, 0, 1, 1, 0, 0, 0, 0, 0, 0, 0, 0, 0, 0, 0, 0, 0, 0, 0, 0, 0, 0, 0, 0, 0, 0, 0, 0, 0, 0, 0, 1, 1, 1, 0, 0, 0, 0, 0, 0, 0, 0, 0, 0, 0, 0, 0, 0, 0, 0, 0, 0, 0, 0, 0, 0, 0, 0, 0, 0, 1, 1, 1, 0, 0, 0, 0, 0, 0, 0, 0, 0, 0, 0, 0, 0, 0, 0, 0, 0, 0, 0, 0, 0, 0, 0, 0, 0, 0, 1, 1, 1, 1, 0, 0, 0, 0, 0, 0, 0, 0, 0, 0, 0, 0, 0, 0, 0, 0, 0, 0, 0, 0, 0, 0, 0, 0, 0, 0, 1, 1, 1, 0, 0, 0, 0, 0, 0, 0, 0, 0, 0, 0, 0, 0, 0, 0, 0, 0, 0, 0, 0, 0, 0, 0, 0, 0, 1, 1, 1, 0, 0, 0, 0, 0, 0, 0, 0, 0, 0, 0, 0, 0, 0, 0, 0, 0, 0, 0, 0, 0, 0, 0, 1, 1, 1, 1, 1, 0, 0, 0, 0, 0, 0, 0, 0, 0, 0, 0, 0, 0, 0, 0, 0, 0, 0, 0, 0, 0, 1, 1, 1, 1, 1, 1, 1, 0, 0, 0, 0, 0, 0, 0, 0, 0, 0, 0, 0, 0, 0, 0, 0, 0, 0, 0, 0, 1, 1, 1, 1, 1, 1, 0, 0, 0, 0, 0, 0, 0, 0, 0, 0, 0, 0, 0, 0, 0, 0, 0, 0, 0, 0, 1, 1, 1, 1, 1, 1, 0, 0, 0, 0, 0, 0, 0, 0, 0, 0, 0, 0, 0, 0, 0, 0, 0, 0, 0, 1, 1, 1, 1, 1, 1, 1, 0, 0, 0, 0, 0, 0, 0, 0, 0, 0, 0, 0, 0, 0, 0, 0, 0, 0, 0, 1, 1, 1, 1, 1, 1, 1, 1, 0, 0, 0, 0, 0, 0, 0, 0, 0, 0, 0, 0, 0, 0, 0, 0, 0, 0, 0, 1, 1, 1, 1, 1, 1, 1, 0, 0, 0, 0, 0, 0, 0, 0, 0, 0, 0, 0, 0, 0, 0, 0, 0, 0, 0, 0, 0, 0, 0, 0, 0, 0, 0, 0, 0, 0, 0, 0, 0, 0, 0, 0, 0, 0, 0, 0, 0, 0, 0, 0, 0, 0, 0, 0, 0, 0, 0, 0, 0, 0, 0, 0, 0, 0, 0, 0, 0, 0, 0, 0, 0, 0, 0, 0, 0, 0, 0, 0, 0, 0, 0, 0, 0, 0, 0, 0, 0, 0, 0, 0, 0, 0, 0, 0, 0, 0, 0, 0, 0, 0, 0, 0, 0, 0, 0, 0, 0]\n"
     ]
    }
   ],
   "source": [
    "for i in range(len(x_train)):\n",
    "    for j in range(len(x_train[0])):\n",
    "        if x_train[i][j] != 0 :\n",
    "            #Nous devons diviser par 255.0 et non 255 pour convertir ces int en float\n",
    "            x_train[i][j] = round(int(x_train[i][j]) / 255.0)\n",
    "\n",
    "print(x_train[0])"
   ]
  },
  {
   "cell_type": "markdown",
   "metadata": {},
   "source": [
    "We can use the same code as before to visualize the change:"
   ]
  },
  {
   "cell_type": "code",
   "execution_count": 8,
   "metadata": {},
   "outputs": [
    {
     "data": {
      "image/png": "[encoded data removed]",
      "text/plain": [
       "<Figure size 432x288 with 1 Axes>"
      ]
     },
     "metadata": {},
     "output_type": "display_data"
    }
   ],
   "source": [
    "#Conversion de notre vecteur d'une dimension en 2 dimensions\n",
    "matrix = np.reshape(x_train[0], (28,28))\n",
    "\n",
    "plt.imshow(matrix, cmap='gray')\n",
    "plt.show()"
   ]
  },
  {
   "cell_type": "markdown",
   "metadata": {},
   "source": [
    "### Implementation of a naive Bayes classifier\n",
    "\n",
    "The principle behind the naive Bayes classifier is the following: let's say we have a number of classes $n = \\|C\\|$ (10 in our case): $C = {0, 1, 2, 3, 4, 5, 6, 7, 8, 9}$) and $x$, a vector that represents our image. Using Bayes' theorem, we can determine **the posterior** $P(c\\|x)$, which is the probability that our vector belongs to class $c$ given its representation as the vector $x$ using the following equation :\n",
    "\n",
    "$$P(c\\|x) = \\\\frac{P(x\\|c) \\\\cdot P(c)}{P(x)}$$\n",
    "\n",
    "To calculate this probability, we need:\n",
    "\n",
    "- **The likelihood** $P(x\\|c)$, which is the probability of obtaining a vector $x$ given that the vector belongs to the class $c$.\n",
    "- **The prior** $P(c)$, which is the probability of having a class $c$ image in our dataset.\n",
    "- **The** **evidence** $P(x)$ , the probability of having a vector $x$ in our dataset.\n",
    "\n",
    "Once we can calculate this probability, we can do so for each class to which $x$ could belong and choose the class that generates the maximum conditional probability. We can express this with the following formula:\n",
    "\n",
    "$$h(x) = \\\\operatorname\\*{argmax}\\_{c \\\\ \\\\in \\\\ C}  \\\\ P(c\\|x)$$\n",
    "\n",
    "We use $h(x)$ here to denote our **hypothesis function**.\n",
    "\n",
    "Let's start by calculating **the evidence $P(x)$**, which is the probability of having a vector $x$ representing an image in our dataset **(representing any number)**. We can use the law of total probability to calculate it. This will be the sum of all the probabilities of obtaining the $x$ vector as a representation of **each of the numbers**weighted by the probability of observing that number, i.e. the **prior** $P(c)$:\n",
    "\n",
    "$$P(x) = P(x\\|c\\_1) \\\\cdot P(c\\_1) + P(x\\|c\\_2) \\\\cdot P(c\\_2) + \\\\dots + P(x\\|c\\_n) \\\\cdot P(c\\_n)$$ $$= \\\\sum\\_{j=1}\\^n P(x\\|c\\_j)P(c\\_j)$$\n",
    "\n",
    "As mentioned above, our scenario implies that $n = 10$. We can substitute $P(x)$ in our hypothesis function. We get:\n",
    "\n",
    "$$h(x) = \\\\operatorname\\*{argmax}_{c \\\\ \\\\in \\\\ C}  \\\\ P(c\\|x) = \\\\operatorname\\*{argmax}_{c \\\\ \\\\in \\\\ C}  \\\\ \\\\frac{P(x\\|c) \\\\cdot P(c)}{\\\\sum\\_{j=1}\\^n P(x\\|c\\_j)P(c\\_j)}$$\n",
    "\n",
    "We observe that **whatever** the class for which we calculate $P(c\\|x)$ for a vector $x$, the denominator always remains the same since it is calculated in the same way. It is then important to understand that if a value $V\\_1$ is greater than $V\\_2$, and that we divide the two values by a **positive** constant $c$, the inequality $\\\\frac{V\\_1}{c} > \\\\frac{V\\_2}{c}$ is always satisfied. This is the case here since the denominator is a probability, which implies that it can never be negative. Therefore, **we do not need to calculate the evidence $P(x)$ in our hypothesis function** since it will have no impact on the maximum value of $P(x\\|c) \\\\cdot P(c)$. So our hypothesis function becomes:\n",
    "\n",
    "$$h(x) = \\\\operatorname\\*{argmax}_{c \\\\ \\\\in \\\\ C}  \\\\ P(c\\|x) = \\\\operatorname\\*{argmax}_{c \\\\ \\\\in \\\\ C}  \\\\ P(x\\|c) \\\\cdot P(c)$$\n",
    "\n",
    "Perfect! One less term to calculate. Let's continue by calculating the **prior** $P(c)$, which is the probability of having an image which belons to class $c$ in our dataset. To calculate this probability for a particular class, simply count the number of data with the label of that class and divide it by the total number of data :\n",
    "\n",
    "$$P(c) = \\\\frac{# data\\\\ in \\\\ class \\\\ c}{# total \\\\ data}$$\n",
    "\n",
    "Since we have $10$ classes in our implementation, we need to browse `y_train` by setting 10 counters, one for each class. In the cell below, declare a list `counts` and assign 10 null values to it."
   ]
  },
  {
   "cell_type": "code",
   "execution_count": 9,
   "metadata": {},
   "outputs": [
    {
     "name": "stdout",
     "output_type": "stream",
     "text": [
      "[0, 0, 0, 0, 0, 0, 0, 0, 0, 0]\n"
     ]
    }
   ],
   "source": []
  },
  {
   "cell_type": "markdown",
   "metadata": {},
   "source": [
    "We can now count the number of instances of each label. Browse `y_train` and assign the appropriate values to `counts` : `counts[0]` will be the number of zeros in `y_train`, `counts[1]` the number of 1s, and so on. Then print the result."
   ]
  },
  {
   "cell_type": "code",
   "execution_count": 10,
   "metadata": {},
   "outputs": [
    {
     "name": "stdout",
     "output_type": "stream",
     "text": [
      "[5923, 6742, 5958, 6131, 5842, 5421, 5918, 6265, 5851, 5949]\n"
     ]
    }
   ],
   "source": []
  },
  {
   "cell_type": "markdown",
   "metadata": {},
   "source": [
    "You should have obtained `[5923, 6742, 5958, 6131, 5842, 5421, 5918, 6265, 5851, 5949]`. We now want to get a list `priors` that will give us the probability of an image belonging to each class in our dataset."
   ]
  },
  {
   "cell_type": "code",
   "execution_count": null,
   "metadata": {},
   "outputs": [],
   "source": []
  },
  {
   "cell_type": "markdown",
   "metadata": {},
   "source": [
    "We get `[0.09871666666666666, 0.11236666666666667, 0.0993, 0.10218333333333333, 0.09736666666666667, 0.09035, 0.09863333333333334, 0.10441666666666667, 0.09751666666666667, 0.09915]`.\n",
    "\n",
    "Now that we have calculated $P(c)$, which is the prior of each class, all that remains is to calculate **the likelihood** $P(x\\|c)$. It's a little more complicated than the prior. Since our vector $x$ is actually $(x\\_1, x\\_2, ... x\\_{784})$, we seek to determine $P(x\\_1, x\\_2, ... x\\_{784}\\|c)$. We must use the multivariate probability law which is as follows:\n",
    "\n",
    "$$P(A\\_1, \\\\dots, A\\_n) = P(A\\_1) \\\\times P(A\\_2\\|A\\_1) \\\\times P(A\\_3\\|A\\_1, A\\_2) \\\\times \\\\dots \\\\times P(A\\_n\\|A\\_1, A\\_2, \\\\dots, A\\_{n-1})$$\n",
    "\n",
    "So we have:\n",
    "\n",
    "$$P(x\\_1, x\\_2, ... x\\_{784}\\|c) = P(x\\_1\\|c) \\\\times P(x\\_2\\|c, x\\_1) \\\\times P(x\\_3\\|c, x\\_1, x\\_2) \\\\times \\\\dots \\\\times P(x\\_{784}\\|c, x\\_1, x\\_2, x\\_3, \\\\dots, x\\_{783})$$\n",
    "\n",
    "If we make the **naive** hypothesis that these probabilities are **independent**, we have by definition that each term $P(x\\_i\\|c, x\\_1, x\\_2, \\\\dots, x\\_{i-1})$ becomes $P(x\\_i\\|c)$. Assuming that these probabilities are independent is to assume that there is no correlation between the pixels, which is not the case. There are other versions of the Bayesian classifier that take these correlations into account, see the section **\"for maniacs\"** in the conclusion. However, let's see what results we can obtain with this \"wild assumption\".\n",
    "\n",
    "We have:\n",
    "\n",
    "$$P(x\\_i\\|c, x\\_1, x\\_2, \\\\dots, x\\_{i-1}) = P(x\\_i\\|c)$$\n",
    "\n",
    "$$\\\\implies P(x\\_1, x\\_2, ... x\\_{784}\\|c) = P(x\\_1\\|c) \\\\times P(x\\_2\\|c) \\\\times P(x\\_3\\|c) \\\\times \\\\dots \\\\times P(x\\_{784}\\|c)$$\n",
    "\n",
    "We need to calculate ten different $P(x\\|c\\_j)$, a likelihood for each class $j, 0 \\\\leq j \\\\leq $9. We want to determine:\n",
    "\n",
    "$$P(x\\_{j1}, x\\_{j2}, ... x\\_{j \\\\ 784}\\|c\\_j) = P(x\\_{j1}\\|c\\_j) \\\\times P(x\\_{j2}\\|c\\_j) \\\\times P(x\\_{j3}\\|c\\_j) \\\\times \\\\dots \\\\times P(x\\_{j784}\\|c\\_j)$$\n",
    "\n",
    "$$= \\\\prod\\_{i = 1}\\^{784} P(x\\_{ji}\\|c\\_j) $$\n",
    "\n",
    "How to calculate $P(x\\_{ji}\\|c\\_j)$?\n",
    "\n",
    "**Since we have rounded each pixel $x\\_i$ to a binary value**, we can model $P(x\\_{ji}\\|c\\_j)$ with a binomial distribution where the number $n$ of Bernoulli trials is 1. A binomial distribution where $n = $1 is also called a Bernoulli distribution. If you are not familiar with binomial distributions, I strongly recommend you take a look at it since it is an important topic.\n",
    "\n",
    "Let's define the probability that a pixel $i$ of class $j$ is a $1$ as follows:\n",
    "\n",
    "$$P(x\\_{ji} = 1) = p\\_{ji}$$\n",
    "\n",
    "The probability that it is a $0$ is therefore the complement of $p\\_{ji}$. We have:\n",
    "\n",
    "$$P(x\\_{ji} = 0) = (1 - p\\_{ji})$$\n",
    "\n",
    "According to the binomial distribution, we have:\n",
    "\n",
    "$$P(x\\_{ji}\\|c\\_j) = p\\_{ji}^{x\\_i}(1 - p\\_{ji})^{1-x\\_i}$$\n",
    "\n",
    "Now that we know how to calculate the likelihood, we just have to calculate $p\\_{ji}$ for all $j$ classes and $i$ pixels. It's a simple enough calculation:\n",
    "\n",
    "$$p\\_{ji} = \\\\frac{# pixels \\\\ i \\\\ equal \\\\ to\\\\ 1 \\\\ for\\\\ the\\\\ data\\\\ of\\\\ class\\\\ j}{# total \\\\ data\\\\ in\\\\ class \\\\ j}$$\n",
    "\n",
    "**However, there is a problem with the previous formula, namely the fact that $p\\_{ji}$ can be zero.** This would happen if we were to **never** see a value of 1 for a pixel $i$ among all the images of a class $j$ in our test set. *Why is that a problem?*\n",
    "\n",
    "Let us remember that we have just demonstrated that:\n",
    "\n",
    "$$P(x\\|c\\_j) = \\\\prod\\_{i = 1}^{784} P(x\\_{ji}\\|c\\_j) = \\\\prod\\_{i = 1}^{784} p\\_{ji}^{x\\_i}(1 - p\\_{ji})^{1 - x\\_i}$$\n",
    "\n",
    "If even **one** of the $p\\_{ij}$ values  is null, **our entire product will be nullified**. Suppose we have a pixel $k$ that is always black in the images of our training set (a pixel in a corner, for example). We'll have:\n",
    "\n",
    "$$p\\_{jk} = 0 \\\\implies \\\\prod\\_{i = 1}^{784} p\\_{ji}^{x\\_i}(1 - p\\_{ji})\\^{1 - x\\_i} = 0$$\n",
    "\n",
    "This regardless of the values of $p\\_{j1}, p\\_{j2}, \\\\dots, p\\_{j \\\\ k-1}, p\\_{j \\\\ k+1}, \\\\dots, p\\_{j \\\\ 784}$ which can be very good probabilities. To remedy this problem, we use **Laplace smoothing.** We adjust the formula as follows:\n",
    "\n",
    "$$p\\_{ji} = \\\\frac{# (\\\\ pixels \\\\ i \\\\ equal \\\\ to \\\\ 1 \\\\ for \\\\ data \\\\ in \\\\ class \\\\ j \\\\ )\\\\ + 1}{# (\\\\ total \\\\ data \\\\ in \\\\ class \\\\ j \\\\ ) \\\\ + 2}$$\n",
    "\n",
    "This makes $p\\_{ji}$ **strictly** greater than 0 and less than 1. We add 2 to the denominator since we are working with a **binomial distribution**. This technique is also known as **additive smoothing**. Laplace smoothing is also used in bag-of-words modelling in natural language processing. For more information, see :\n",
    "\n",
    "https://en.wikipedia.org/wiki/Additive\\_smoothing\n",
    "\n",
    "https://www.youtube.com/watch?v=k\\_TiEHh3RI0\n",
    "\n",
    "Let's start by calculating $p\\_{ji}$ :\n",
    "\n",
    "In the next cell, initialize a list `sum_pixel_values` which will be a 2-dimensional matrix (list of lists) containing the sum of all pixel values $x\\_{ji}$ in `x_train`. Specifically, `sum_pixel_values` will have a dimension of $10 \\\\times 784$. Then calculate these values. **Reminder:** $j$ is the $j\\^{th}$ class ($0 \\\\leq j \\\\leq 9$) and $i$ is the $i\\^{th}$ pixel ($0 \\\\leq j \\< 784$).\n",
    "\n",
    "**Warning!** We previously used the $j$ index ranging from $1$ to $784$ in the explanation. It is simpler to start from scratch in the implementation to avoid an index management issue."
   ]
  },
  {
   "cell_type": "code",
   "execution_count": null,
   "metadata": {},
   "outputs": [],
   "source": []
  },
  {
   "cell_type": "markdown",
   "metadata": {},
   "source": [
    "We can now calculate $p\\_{ji}$. Initialize a new list `pixel_probability` with the same dimensions as `sum_pixel_values` and calculate each $p\\_{ji}$ by using laplace smoothing as explained above. *Hint* : We have already calculated the two variables in this equation."
   ]
  },
  {
   "cell_type": "code",
   "execution_count": null,
   "metadata": {},
   "outputs": [],
   "source": []
  },
  {
   "cell_type": "markdown",
   "metadata": {},
   "source": [
    "It would now be interesting to visualize what we have just calculated. Using the code used above for displaying vectors from `x_train`, display the pixel probabilities for each class."
   ]
  },
  {
   "cell_type": "code",
   "execution_count": null,
   "metadata": {},
   "outputs": [],
   "source": []
  },
  {
   "cell_type": "markdown",
   "metadata": {},
   "source": [
    "In summary, our $h(x)$ **hypothesis function** required two ingredients:\n",
    "\n",
    "$$h(x) = \\\\operatorname\\*{argmax}\\_{c \\\\ \\\\in \\\\ C}  \\\\ P(x\\|c) \\\\cdot P(c)$$\n",
    "\n",
    "P(c) is **the prior**, which we first calculated for each class. $P(x\\|c)$ is **the likelihood ******where********:\n",
    "\n",
    "$$P(x\\|c\\_j) = \\\\prod\\_{i = 1}^{784} p\\_{ji}^{x\\_i}(1 - p\\_{ji})\\^{1-x\\_i}$$\n",
    "\n",
    "We then generated the matrix `pixel_probability` which contains each of the $p\\_{ji}$ values.\n",
    "\n",
    "Placing the latter in the first equation, we have:\n",
    "\n",
    "$$h(x) = \\\\operatorname\\*{argmax}_{c \\\\ \\\\in \\\\ C}  \\\\ P(c\\_j) \\\\cdot \\\\prod_{i = 1}^{784} p\\_{ji}^{x\\_i}(1 - p\\_{ji})\\^{1-x\\_i}$$\n",
    "\n",
    "We only have one adjustment left to make to $h(x)$. A product with a high number of small probabilities is problematic. It could be that this product is such a small result that a computer has difficulty representing them on its processor, a problem called arithmetic underflow. To remedy this, we can calculate the logarithm of these values. Similar to the fact that **we didn't have to compute the evidence** earlier in our objective function since $V\\_1 > V\\_2 \\\\implies \\\\frac{V\\_1}{c} > \\\\frac{V\\_2}{c}$ for a positive constant $c$, taking the logarithm of $P(c\\_j) \\\\cdot \\\\prod\\_{i = 1}{784}^p\\_{ji}{x\\_i}^{x\\_i}(1 - p\\_{ji})\\^{x\\_i}$ does not change its maximum value because the logarithm is a **monotonically increasing function**. Note that the direction of variation of a monotonic function is constant. So we have:\n",
    "\n",
    "$$h(x) = \\\\operatorname\\*{argmax}_{c \\\\ \\\\in \\\\ C}  \\\\ \\\\log(P(c\\_j) \\\\cdot \\\\prod_{i = 1}^{784} p\\_{ji}^{x\\_i}(1 - p\\_{ji})^{1-x\\_i}) = \\\\operatorname\\*{argmax}_{c \\\\ \\\\in \\\\ C}  \\\\ \\\\log(P(c\\_j)) + \\\\log(\\\\prod_{i = 1}^{784} p\\_{ji}^{x\\_i}(1 - p\\_{ji})^{1-x\\_i})$$\n",
    "\n",
    "$$= \\\\operatorname\\*{argmax}_{c \\\\ \\\\in \\\\ C}  \\\\ \\\\log(P(c\\_j)) + \\\\sum_{i = 1}^{784} \\\\log(p\\_{ji}^{x\\_i}(1 - p\\_{ji})\\^{1-x\\_i})$$\n",
    "\n",
    "$$= \\\\operatorname\\*{argmax}_{c \\\\ \\\\in \\\\ C}  \\\\ \\\\log(P(c\\_j)) + \\\\sum_{i = 1}\\^{784} (x\\_i \\\\cdot \\\\log(p\\_{ji})+(1-x\\_i)\\\\cdot \\\\log(1 - p\\_{ji}))$$\n",
    "\n",
    "We have the final form of our hypothesis function $h(x)$. Declare in the following cell a function `hypothesis()` that takes as argument a vector $x$ and returns $h(x)$."
   ]
  },
  {
   "cell_type": "code",
   "execution_count": null,
   "metadata": {},
   "outputs": [],
   "source": []
  },
  {
   "cell_type": "markdown",
   "metadata": {},
   "source": [
    "We can now classify our test set. Import the *mnist\\_test.csv* file and create the lists `x_test`and `y_test` as we did before for the training set."
   ]
  },
  {
   "cell_type": "code",
   "execution_count": null,
   "metadata": {},
   "outputs": [],
   "source": []
  },
  {
   "cell_type": "markdown",
   "metadata": {},
   "source": [
    "We can **finally** classify our training set. Just iterate our hypothesis function on the 10,000 vectors composing `x_test` by comparing the result with the corresponding value of `y_test` . It is useful to accumulate the error index in a list called `misclassifications`. That said, we will have to be **patient**."
   ]
  },
  {
   "cell_type": "code",
   "execution_count": null,
   "metadata": {
    "scrolled": false
   },
   "outputs": [],
   "source": []
  },
  {
   "cell_type": "markdown",
   "metadata": {},
   "source": [
    "Then calculate our **error rate**, which is the percentage of errors obtained when classifying our \"training set\"."
   ]
  },
  {
   "cell_type": "code",
   "execution_count": null,
   "metadata": {},
   "outputs": [],
   "source": []
  },
  {
   "cell_type": "markdown",
   "metadata": {},
   "source": [
    "It is interesting to see **which images** our classifier has not classified correctly. Visualize one of the errors $x$ and compare it to $h(x)$. Is this an understandable mistake?"
   ]
  },
  {
   "cell_type": "code",
   "execution_count": null,
   "metadata": {},
   "outputs": [],
   "source": []
  },
  {
   "cell_type": "markdown",
   "metadata": {},
   "source": [
    "# Conclusion\n",
    "\n",
    "We have just completed this implementation of the naive Bayes classifier. Some relevant questions arise in relation to this exercise:\n",
    "\n",
    "1. If we hadn't rounded each pixel to a binary value, what **distribution** would we have used to model $P(x\\_{ji} = k), \\\\ 0 \\\\leq k \\\\leq 255?$ What **problem** would we have had if we had decided to include these probabilities in our model?\n",
    "\n",
    "2. Was the **Laplace smoothing** really necessary? What would have happened if we had not taken the smoothing into account? Is our $h(x)$ still valid? Also, what error rate indicates a model that doesn't work? Is it 100%?\n",
    "\n",
    "3. As mentioned earlier, calculating $\\\\log(h(x))$ is equivalent to calculating $h(x)$ since $\\\\log(x)$ is a **monotonically increasing** function. Could we use a **monotonically decreasing** function $f(x)$ to compute $f(h(x))$ and get the same result, or should we make a modification to our $h(x)$?\n",
    "\n",
    "### For maniacs\n",
    "\n",
    "This model uses the **naive** assumption that there is no correlation between the pixels in our images. There is a Gaussian variant of the Bayes classifier that takes this into account. The next step in this exercise would be to implement it. A word of encouragement: it reduces the error rate to less than 5%. See pages 8 to 14: http://www-inst.eecs.berkeley.edu/~cs70/sp15/notes/n21.pdf\n",
    "\n",
    "Cheers!\n",
    "\n",
    "Arnaud"
   ]
  }
 ],
 "metadata": {
  "jupytext": {
   "formats": "ipynb,md"
  },
  "kernelspec": {
   "display_name": "Python 3",
   "language": "python",
   "name": "python3"
  },
  "language_info": {
   "codemirror_mode": {
    "name": "ipython",
    "version": 3
   },
   "file_extension": ".py",
   "mimetype": "text/x-python",
   "name": "python",
   "nbconvert_exporter": "python",
   "pygments_lexer": "ipython3",
   "version": "3.7.6"
  }
 },
 "nbformat": 4,
 "nbformat_minor": 2
}
