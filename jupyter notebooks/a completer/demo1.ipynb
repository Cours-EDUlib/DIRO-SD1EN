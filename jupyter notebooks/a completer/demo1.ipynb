{
 "cells": [
  {
   "cell_type": "markdown",
   "metadata": {},
   "source": [
    "# Demonstration 1 - IFT 3700\n",
    "\n",
    "### Topics covered :\n",
    "\n",
    "- How the demonstrations work\n",
    "- Presentation of the \"Jupyter Notebook\" format\n",
    "- Cognitive bias:\n",
    "  1. Multiple comparisons problem\n",
    "  \n",
    "  - Review of p-values\n",
    "  - Bonferroni correction\n",
    "  \n",
    "  2. Regression to the mean\n",
    "  3. Bayes' Theorem\n",
    "- Presentation of the MNIST dataset\n",
    "- Implementation of a classification method : \"Naive Bayesian Classification\"\n",
    "\n",
    "## Theoretical part:\n",
    "\n",
    "### Multiple comparisons problem\n",
    "\n",
    "**P value:** Probability that we would observe the same result if our hypothesis was wrong. In other words, we believe we are seeing a significant result when it was actually just chance This amounts to a Type 1 error. We obviously want to avoid making these mistakes.\n",
    "\n",
    "In summary: small value p $\\implies$ greater certainty of the veracity of our results.\n",
    "\n",
    "The multiple comparisons problem arises when we test a **set** of hypotheses with a certain p-value. As an example, let's take a scenario where we test 30 hypotheses with a p-value of 0.05, or 5%. Let's assume that **every single one of our hypotheses is wrong**. What is the probability of observing at least one significant outcome by chance?\n",
    "\n",
    "The probability that we have at least one significant result is the complement of the probability of observing none.\n",
    "\n",
    "We have:\n",
    "\n",
    "$$P(at\\ least\\ one\\ significant\\ result) = 1 - P(no\\ significant\\ result) $$\n",
    "\n",
    "$$= 1 - (0.95)^{30}$$\n",
    "\n",
    "$$\\approx 79%$$\n",
    "\n",
    "So we see that it is very likely that we would get a significant result that would cause us to make a type 1 error.\n",
    "\n",
    "*How can we solve this problem?*\n",
    "\n",
    "### Bonferroni correction\n",
    "\n",
    "The Bonferroni correction corrects this problem in a fairly simple way by dividing the p-value by the number of hypotheses we want to posit:\n",
    "\n",
    "Let $n$ be the number of hypotheses, our p-value becomes $\\frac{\\alpha}{n}$ where $\\alpha$ was our original p-value.\n",
    "\n",
    "We now notice that our original calculation is adjusted:\n",
    "\n",
    "$$P(at\\ least\\ one\\ significant\\ result) = 1 - P(no\\ significant\\ result) $$\n",
    "\n",
    "$$ = 1 - (1 - \\frac{\\alpha}{n})^{30}$$\n",
    "\n",
    "$$= 1 - (1 - \\frac{0.05}{30})^{30}$$\n",
    "\n",
    "$$\\approx 1 - (1 - 0.00167)^{30}$$\n",
    "\n",
    "$$\\approx 1 - 0.9512$$\n",
    "\n",
    "$$\\approx 5%$$\n",
    "\n",
    "However, this correction takes into account that all hypothesis tests are *independent*. If there is a positive correlation between them, the Bonferroni correction will result in an **overly conservative**p-value. This will result in Type 2 errors, i.e. rejecting a significant result when it is **valid**.\n",
    "\n",
    "Other more common and effective approaches exist to eliminate this problem, such as the Holm-Bonferroni method and Sidak correction. They are much less naive and more interesting. I invite you to take a look at them if you're interested.\n",
    "\n",
    "### Regression toward the mean\n",
    "\n",
    "In summary, it is the principle that if the value of a variable seems extreme during an initial test, it will probably be closer to the mean in the second test. This may lead us to erroneous conclusions.\n",
    "\n",
    "The classic example is to take a class of students and have them randomly answer a test composed of 100 true or false questions, *while* *taking* *into* *account that there is no negative correction ;)*. We obviously expect the class average to be 50%. However, some students will be lucky and will have above-average grades and vice versa for the unlucky students. In short, we will have an approximately normal distribution of scores with 50% as an overall average.\n",
    "\n",
    "If we repeat the experiment with the students who were lucky in the first exam, we will obtain a new normal distribution centered at 50%. Same scenario for the students who were less fortunate on the first test.\n",
    "\n",
    "This gives the illusion that students who scored poorly on the first exam improved on the second and that students who scored well on the first exam did not study enough on the second. However, we know very well that this is not the case, since all students answer randomly!\n",
    "\n",
    "This is called regression toward the mean. Obviously, the previous example is very unrealistic. In real life, these are often scenarios where several factors affect a certain outcome, not just luck. This is what leads us to form hypotheses to explain certain trends.\n",
    "\n",
    "In short, it must be realized that the \"natural tendency\" of regression toward the mean can sometimes fully explain results when one could make erroneous assumptions to explain them.\n",
    "\n",
    "I recommend that you watch a very good and fairly popular video that deals with an instance of this cognitive bias, a study that tried to determine whether positive or negative reinforcement was more effective in the training of Israeli military fighter pilots:\n",
    "\n",
    "https://www.youtube.com/watch?v=1tSqSMOyNFE\n",
    "\n",
    "### Bayes' Theorem\n",
    "\n",
    "As discussed during the course with the example of a medical test for a relatively rare disease that sometimes gives false positives, Bayes' theorem is used to calculate **conditional probabilities**.\n",
    "\n",
    "The formula is as follows:\n",
    "\n",
    "$$P(A|B) = \\frac{P(B|A) \\cdot P(A)}{P(B)}$$\n",
    "\n",
    "This formula can be obtained by combining two instances of the definition of conditional probability:\n",
    "\n",
    "$$P(A|B) = \\frac{P(A \\cap B)}{P(B)}$$\n",
    "\n",
    "Likewise,\n",
    "\n",
    "$$P(B|A) = \\frac{P(B \\cap A)}{P(A)}$$\n",
    "\n",
    "Since $P(B \\cap A) = P(A \\cap B)$,\n",
    "\n",
    "$$P(A|B)\\cdot P(B) = P(B|A)\\cdot P(A)$$\n",
    "\n",
    "Finally, dividing the two sides by $P(B)$ gives us:\n",
    "\n",
    "$$P(A|B) = \\frac{P(B|A) \\cdot P(A)}{P(B)}$$"
   ]
  },
  {
   "cell_type": "markdown",
   "metadata": {},
   "source": [
    "## Practical part :\n",
    "\n",
    "We can already dive into the practical side now that we know Bayes' Theorem. We can implement the naive Bayes classifier using the MNIST dataset. To do so, it would be advantageous to be comfortable with Jupyter and Python 3. See the tutorials below if you are not familiar with this environment:\n",
    "\n",
    "https://jupyter-notebook-beginner-guide.readthedocs.io/en/latest/what_is_jupyter.html\n",
    "\n",
    "https://docs.python.org/3/tutorial/index.html\n",
    "\n",
    "# WARNING:\n",
    "\n",
    "**The following exercice can be completed in full by following the document below (pages 1 to 8). If you want to complete the entire implementation by yourself (recommended), do not read the rest of this notebook. However, my biased opinion is that this notebook is much clearer and more intuitive than this document. If you want to be guided, you can follow the steps described in the rest of the notebook. A version of the notebook with the missing code will also be published on the website. If you choose to do this on your own, don't forget to go back to the notebook and read the \"Conclusion\" section.**\n",
    "\n",
    "http://www-inst.eecs.berkeley.edu/~cs70/sp15/notes/n21.pdf\n",
    "\n",
    "Let's first look at how to use the MNIST dataset for this exercise."
   ]
  },
  {
   "cell_type": "markdown",
   "metadata": {},
   "source": [
    "### MNIST dataset\n",
    "\n",
    "The MNIST dataset is a large database of images of handwritten numbers. These images are $28 \\times $28 pixels in size. The full dataset consists of 70,000 images, along with their respective labels. \n",
    "\n",
    "Since there are $28 \\times 28 = $784 pixels in the image, we have a total of 785 columns including the label. Each piece of data is actually a vector of 784 dimensions composed of integers ranging from 0 to 255 for each dimension, as well as the label of that data. These numbers represent the intensity of a grayscale pixel, with 0 being the black end of the scale and 255 being the white end.\n",
    "\n",
    "### Downloading MNIST in Google Colab\n",
    "\n",
    "To make use of the MNIST dataset, we will download it using the `sklearn` library's `datasets` package. This package features helpers to download many datasets commonly used by the machine learning community. If you wish to learn more, please consult [their documentation](https://scikit-learn.org/stable/datasets/index.html). For now, we will use this package to download the MNIST dataset by running the following cell. This will take several minutes. "
   ]
  },
  {
   "cell_type": "code",
   "execution_count": null,
   "metadata": {},
   "outputs": [],
   "source": [
    "from sklearn.datasets import fetch_openml\n",
    "mnist = fetch_openml('mnist_784', cache=False)\n",
    "\n",
    "mnist.keys()\n",
    "import matplotlib.pyplot as plt\n",
    "import numpy as np\n",
    "\n",
    "# inspect the first datapoint of MNIST by printing the data and the label\n",
    "print('data : ', mnist.data[0])\n",
    "print('target : ', mnist.target[0])"
   ]
  },
  {
   "cell_type": "markdown",
   "metadata": {},
   "source": [
    "We see that the first data point of our training set is a 5, since that is the value of its label."
   ]
  },
  {
   "cell_type": "markdown",
   "metadata": {},
   "source": [
    "We see that we can access the data and labels of the MNIST dataset by using the `data` and `target` attributes of `mnist`, which we downloaded previously. Since we intend to train a prediction model to predict digits' respective labels, we should split the data into training and testing datasets. \n",
    "Let's split the data into 4 distinct components for convenience:\n",
    "* `x_train`: The training data that we will use to train our model. We will set it to contain $60 \\ 000$ images, which each have 784 pixels. Therefore, it will be a matrix of size $60\\ 000 \\times 784$. \n",
    "* `x_test`: The testing data that we will use to test our trained predictor. Since we have reserved $60 \\ 000$ datapoints for training, we have $10 \\ 000$ points left for testing our trained model's performance. Therefore, it will be a matrix of size $10\\ 000 \\times 784$. \n",
    "* `y_train`: The labels associated to our training set. Since there are $ 60\\ 000 $ images in the training set, and each one has a corresponding label, `y_train` will be a matrix of size $ 60\\ 000 \\times 1$ (i.e. a vector).\n",
    "* `y_test`: The labels associated to our testing set. Since there are $ 10\\ 000 $ images in the testing set, and each one has a corresponding label, `y_test` will be a matrix of size $ 10\\ 000 \\times 1$ (i.e. a vector).\n",
    "\n",
    "To split the data, we will turn to another of `sklearn`'s packages: `model_selection`. This package contains a function `train_test_split` that will split the data into a training and testing set for us. We can do this by running the following cell."
   ]
  },
  {
   "cell_type": "code",
   "execution_count": null,
   "metadata": {},
   "outputs": [],
   "source": [
    "from sklearn.model_selection import train_test_split\n",
    "\n",
    "x_train, x_test, y_train, y_test = train_test_split(mnist.data, \n",
    "                                                    mnist.target, \n",
    "                                                    test_size=10000,\n",
    "                                                    random_state=42)\n",
    "print(x_train[0])"
   ]
  },
  {
   "cell_type": "markdown",
   "metadata": {},
   "source": [
    "We are now ready to view these images. We will use `numpy` and `matplotlib`. I invite you to familiarize yourself with each of these libraries as they will be used regularly in the course. In the code below, we have to convert our `x_train` from a 1 dimensional vector to a 2 dimensional matrix."
   ]
  },
  {
   "cell_type": "code",
   "execution_count": null,
   "metadata": {},
   "outputs": [],
   "source": [
    "import numpy as np\n",
    "import matplotlib.pyplot as plt\n",
    "\n",
    "#Convert our vector from one dimension to two dimensions\n",
    "matrix = np.reshape(x_train[0], (28,28))\n",
    "\n",
    "plt.imshow(matrix, cmap='gray')\n",
    "\n",
    "#Show the first number in the training set.\n",
    "plt.show()"
   ]
  },
  {
   "cell_type": "markdown",
   "metadata": {},
   "source": [
    "You might be wondering why the digit we just viewed is not a five. After all, the first image of our dataset was a 5 earlier!\n",
    "\n",
    "When we used `sklearn.model_selection`'s `train_test_split` function to split the data into training and testing datasets, `sklearn` automatically shuffled the data for us. The `random_state=42` argument was passed to preset the shuffle's randomness: this allows us to obtain the same \"random\" shuffle every time, which is important for reproducibility in the context of a scientific protocol."
   ]
  },
  {
   "cell_type": "markdown",
   "metadata": {},
   "source": [
    "To be able to implement the naive Bayes classifier in the next section, we need to transform pixel intensity values from 0 to 255 into binary values 0 and 1; you will see why. We can do this by using the `round()`function."
   ]
  },
  {
   "cell_type": "code",
   "execution_count": null,
   "metadata": {
    "scrolled": true
   },
   "outputs": [],
   "source": [
    "# We need to divide by 255.0 and not 255 to convert ints into floats.\n",
    "# Make sure to only run the cell ONCE. If you run it multiple times,\n",
    "# you'll have to reload the kernel and rerun all the previous cells.\n",
    "x_train = np.round(x_train/255.0)"
   ]
  },
  {
   "cell_type": "markdown",
   "metadata": {},
   "source": [
    "We can use the same code as before to visualize the change:"
   ]
  },
  {
   "cell_type": "code",
   "execution_count": null,
   "metadata": {},
   "outputs": [],
   "source": [
    "#Convert our vector from one dimension to two dimensions, and\n",
    "#cast to int type for nice visualization of data\n",
    "matrix = np.reshape(x_train_binary[0], (28,28)).astype(int)\n",
    "\n",
    "print(matrix)\n",
    "\n",
    "plt.imshow(matrix, cmap='gray')\n",
    "plt.show()"
   ]
  },
  {
   "cell_type": "markdown",
   "metadata": {},
   "source": [
    "### Implementation of a naive Bayes classifier\n",
    "\n",
    "The principle behind the naive Bayes classifier is the following: let's say we have a number of classes $n = |C|$ (10 in our case): $C = {0, 1, 2, 3, 4, 5, 6, 7, 8, 9}$) and $x$, a vector that represents our image. Using Bayes' theorem, we can determine **the posterior** $P(c|x)$, which is the probability that our vector belongs to class $c$ given its representation as the vector $x$ using the following equation :\n",
    "\n",
    "$$P(c|x) = \\frac{P(x|c) \\cdot P(c)}{P(x)}$$\n",
    "\n",
    "To calculate this probability, we need:\n",
    "\n",
    "- **The likelihood** $P(x|c)$, which is the probability of obtaining a vector $x$ given that the vector belongs to the class $c$.\n",
    "- **The prior** $P(c)$, which is the probability of having a class $c$ image in our dataset.\n",
    "- **The** **evidence** $P(x)$ , the probability of having a vector $x$ in our dataset.\n",
    "\n",
    "Once we can calculate this probability, we can do so for each class to which $x$ could belong and choose the class that generates the maximum conditional probability. We can express this with the following formula:\n",
    "\n",
    "$$h(x) = \\operatorname*{argmax}_{c \\ \\in \\ C}  \\ P(c|x)$$\n",
    "\n",
    "We use $h(x)$ here to denote our **hypothesis function**.\n",
    "\n",
    "Let's start by calculating **the evidence $P(x)$**, which is the probability of having a vector $x$ representing an image in our dataset **(representing any number)**. We can use the law of total probability to calculate it. This will be the sum of all the probabilities of obtaining the $x$ vector as a representation of **each of the numbers**weighted by the probability of observing that number, i.e. the **prior** $P(c)$:\n",
    "\n",
    "$$P(x) = P(x|c_1) \\cdot P(c_1) + P(x|c_2) \\cdot P(c_2) + \\dots + P(x|c_n) \\cdot P(c_n)$$ $$= \\sum_{j=1}^n P(x|c_j)P(c_j)$$\n",
    "\n",
    "As mentioned above, our scenario implies that $n = 10$. We can substitute $P(x)$ in our hypothesis function. We get:\n",
    "\n",
    "$$h(x) = \\operatorname*{argmax}_{c \\ \\in \\ C}  \\ P(c|x) = \\operatorname*{argmax}_{c \\ \\in \\ C}  \\ \\frac{P(x|c) \\cdot P(c)}{\\sum_{j=1}^n P(x|c_j)P(c_j)}$$\n",
    "\n",
    "We observe that **whatever** the class for which we calculate $P(c|x)$ for a vector $x$, the denominator always remains the same since it is calculated in the same way. It is then important to understand that if a value $V_1$ is greater than $V_2$, and that we divide the two values by a **positive** constant $c$, the inequality $\\frac{V_1}{c} > \\frac{V_2}{c}$ is always satisfied. This is the case here since the denominator is a probability, which implies that it can never be negative. Therefore, **we do not need to calculate the evidence $P(x)$ in our hypothesis function** since it will have no impact on the maximum value of $P(x|c) \\cdot P(c)$. So our hypothesis function becomes:\n",
    "\n",
    "$$h(x) = \\operatorname*{argmax}_{c \\ \\in \\ C}  \\ P(c|x) = \\operatorname*{argmax}_{c \\ \\in \\ C}  \\ P(x|c) \\cdot P(c)$$\n",
    "\n",
    "Perfect! One less term to calculate. Let's continue by calculating the **prior** $P(c)$, which is the probability of having an image which belons to class $c$ in our dataset. To calculate this probability for a particular class, simply count the number of data with the label of that class and divide it by the total number of data :\n",
    "\n",
    "$$P(c) = \\frac{\\# data\\ in \\ class \\ c}{\\# total \\ data}$$\n",
    "\n",
    "Since we have $10$ classes in our implementation, we need to browse `y_train` by setting 10 counters, one for each class. In the cell below, declare a list `counts` and assign 10 null values to it."
   ]
  },
  {
   "cell_type": "code",
   "execution_count": null,
   "metadata": {},
   "outputs": [],
   "source": []
  },
  {
   "cell_type": "markdown",
   "metadata": {},
   "source": [
    "We can now count the number of instances of each label. Browse `y_train` and assign the appropriate values to `counts` : `counts[0]` will be the number of zeros in `y_train`, `counts[1]` the number of 1s, and so on. Then print the result."
   ]
  },
  {
   "cell_type": "code",
   "execution_count": null,
   "metadata": {},
   "outputs": [],
   "source": []
  },
  {
   "cell_type": "markdown",
   "metadata": {},
   "source": [
    "You should have obtained `[5923, 6742, 5958, 6131, 5842, 5421, 5918, 6265, 5851, 5949]`. We now want to get a list `priors` that will give us the probability of an image belonging to each class in our dataset."
   ]
  },
  {
   "cell_type": "code",
   "execution_count": null,
   "metadata": {},
   "outputs": [],
   "source": []
  },
  {
   "cell_type": "markdown",
   "metadata": {},
   "source": [
    "We get `[0.09871666666666666, 0.11236666666666667, 0.0993, 0.10218333333333333, 0.09736666666666667, 0.09035, 0.09863333333333334, 0.10441666666666667, 0.09751666666666667, 0.09915]`.\n",
    "\n",
    "Now that we have calculated $P(c)$, which is the prior of each class, all that remains is to calculate **the likelihood** $P(x|c)$. It's a little more complicated than the prior. Since our vector $x$ is actually $(x_1, x_2, ... x_{784})$, we seek to determine $P(x_1, x_2, ... x_{784}|c)$. We must use the multivariate probability law which is as follows:\n",
    "\n",
    "$$P(A_1, \\dots, A_n) = P(A_1) \\times P(A_2|A_1) \\times P(A_3|A_1, A_2) \\times \\dots \\times P(A_n|A_1, A_2, \\dots, A_{n-1})$$\n",
    "\n",
    "So we have:\n",
    "\n",
    "$$P(x_1, x_2, ... x_{784}|c) = P(x_1|c) \\times P(x_2|c, x_1) \\times P(x_3|c, x_1, x_2) \\times \\dots \\times P(x_{784}|c, x_1, x_2, x_3, \\dots, x_{783})$$\n",
    "\n",
    "If we make the **naive** hypothesis that these probabilities are **independent**, we have by definition that each term $P(x_i|c, x_1, x_2, \\dots, x_{i-1})$ becomes $P(x_i|c)$. Assuming that these probabilities are independent is to assume that there is no correlation between the pixels, which is not the case. There are other versions of the Bayesian classifier that take these correlations into account, see the section **\"for maniacs\"** in the conclusion. However, let's see what results we can obtain with this \"wild assumption\".\n",
    "\n",
    "We have:\n",
    "\n",
    "$$P(x_i|c, x_1, x_2, \\dots, x_{i-1}) = P(x_i|c)$$\n",
    "\n",
    "$$\\implies P(x_1, x_2, ... x_{784}|c) = P(x_1|c) \\times P(x_2|c) \\times P(x_3|c) \\times \\dots \\times P(x_{784}|c)$$\n",
    "\n",
    "We need to calculate ten different $P(x|c_j)$, a likelihood for each class $j, 0 \\leq j \\leq $9. We want to determine:\n",
    "\n",
    "$$P(x_{j1}, x_{j2}, ... x_{j \\ 784}|c_j) = P(x_{j1}|c_j) \\times P(x_{j2}|c_j) \\times P(x_{j3}|c_j) \\times \\dots \\times P(x_{j784}|c_j)$$\n",
    "\n",
    "$$= \\prod_{i = 1}^{784} P(x_{ji}|c_j) $$\n",
    "\n",
    "How to calculate $P(x_{ji}|c_j)$?\n",
    "\n",
    "**Since we have rounded each pixel $x_i$ to a binary value**, we can model $P(x_{ji}|c_j)$ with a binomial distribution where the number $n$ of Bernoulli trials is 1. A binomial distribution where $n = $1 is also called a Bernoulli distribution. If you are not familiar with binomial distributions, I strongly recommend you take a look at it since it is an important topic.\n",
    "\n",
    "Let's define the probability that a pixel $i$ of class $j$ is a $1$ as follows:\n",
    "\n",
    "$$P(x_{ji} = 1) = p_{ji}$$\n",
    "\n",
    "The probability that it is a $0$ is therefore the complement of $p_{ji}$. We have:\n",
    "\n",
    "$$P(x_{ji} = 0) = (1 - p_{ji})$$\n",
    "\n",
    "According to the binomial distribution, we have:\n",
    "\n",
    "$$P(x_{ji}|c_j) = p_{ji}^{x_i}(1 - p_{ji})^{1-x_i}$$\n",
    "\n",
    "Now that we know how to calculate the likelihood, we just have to calculate $p_{ji}$ for all $j$ classes and $i$ pixels. It's a simple enough calculation:\n",
    "\n",
    "$$p_{ji} = \\frac{\\# pixels \\ i \\ equal \\ to\\ 1 \\ for\\ the\\ data\\ of\\ class\\ j}{\\# total \\ data\\ in\\ class \\ j}$$\n",
    "\n",
    "**However, there is a problem with the previous formula, namely the fact that $p_{ji}$ can be zero.** This would happen if we were to **never** see a value of 1 for a pixel $i$ among all the images of a class $j$ in our test set. *Why is that a problem?*\n",
    "\n",
    "Let us remember that we have just demonstrated that:\n",
    "\n",
    "$$P(x|c_j) = \\prod_{i = 1}^{784} P(x_{ji}|c_j) = \\prod_{i = 1}^{784} p_{ji}^{x_i}(1 - p_{ji})^{1 - x_i}$$\n",
    "\n",
    "If even **one** of the $p_{ij}$ values  is null, **our entire product will be nullified**. Suppose we have a pixel $k$ that is always black in the images of our training set (a pixel in a corner, for example). We'll have:\n",
    "\n",
    "$$p_{jk} = 0 \\implies \\prod_{i = 1}^{784} p_{ji}^{x_i}(1 - p_{ji})^{1 - x_i} = 0$$\n",
    "\n",
    "This regardless of the values of $p_{j1}, p_{j2}, \\dots, p_{j \\ k-1}, p_{j \\ k+1}, \\dots, p_{j \\ 784}$ which can be very good probabilities. To remedy this problem, we use **Laplace smoothing.** We adjust the formula as follows:\n",
    "\n",
    "$$p_{ji} = \\frac{\\# (\\ pixels \\ i \\ equal \\ to \\ 1 \\ for \\ data \\ in \\ class \\ j \\ )\\ + 1}{\\# (\\ total \\ data \\ in \\ class \\ j \\ ) \\ + 2}$$\n",
    "\n",
    "This makes $p_{ji}$ **strictly** greater than 0 and less than 1. We add 2 to the denominator since we are working with a **binomial distribution**. This technique is also known as **additive smoothing**. Laplace smoothing is also used in bag-of-words modelling in natural language processing. For more information, see :\n",
    "\n",
    "https://en.wikipedia.org/wiki/Additive_smoothing\n",
    "\n",
    "https://www.youtube.com/watch?v=k_TiEHh3RI0\n",
    "\n",
    "Let's start by calculating $p*{ji}$ :\n",
    "\n",
    "In the next cell, initialize a list `sum_pixel_values` which will be a 2-dimensional matrix (list of lists) containing the sum of all pixel values $x*{ji}$ in `x_train`. Specifically, `sum_pixel_values` will have a dimension of $10 \\times 784$. Then calculate these values. **Reminder:** $j$ is the $j^{th}$ class ($0 \\leq j \\leq 9$) and $i$ is the $i^{th}$ pixel ($0 \\leq j < 784$).\n",
    "\n",
    "**Warning!** We previously used the $j$ index ranging from $1$ to $784$ in the explanation. It is simpler to start from scratch in the implementation to avoid an index management issue."
   ]
  },
  {
   "cell_type": "code",
   "execution_count": null,
   "metadata": {},
   "outputs": [],
   "source": []
  },
  {
   "cell_type": "markdown",
   "metadata": {},
   "source": [
    "We can now calculate $p*{ji}$. Initialize a new list `pixel_probability` with the same dimensions as `sum_pixel_values` and calculate each $p*{ji}$ by using laplace smoothing as explained above. *Hint* : We have already calculated the two variables in this equation."
   ]
  },
  {
   "cell_type": "code",
   "execution_count": null,
   "metadata": {},
   "outputs": [],
   "source": []
  },
  {
   "cell_type": "markdown",
   "metadata": {},
   "source": [
    "It would now be interesting to visualize what we have just calculated. Using the code used above for displaying vectors from `x_train`, display the pixel probabilities for each class."
   ]
  },
  {
   "cell_type": "code",
   "execution_count": null,
   "metadata": {},
   "outputs": [],
   "source": []
  },
  {
   "cell_type": "markdown",
   "metadata": {},
   "source": [
    "In summary, our $h(x)$ **hypothesis function** required two ingredients:\n",
    "\n",
    "$$h(x) = \\operatorname*{argmax}_{c \\ \\in \\ C}  \\ P(x|c) \\cdot P(c)$$\n",
    "\n",
    "P(c) is **the prior**, which we first calculated for each class. $P(x|c)$ is **the likelihood ******where********:\n",
    "\n",
    "$$P(x|c_j) = \\prod_{i = 1}^{784} p_{ji}^{x_i}(1 - p_{ji})^{1-x_i}$$\n",
    "\n",
    "We then generated the matrix `pixel_probability` which contains each of the $p_{ji}$ values.\n",
    "\n",
    "Placing the latter in the first equation, we have:\n",
    "\n",
    "$$h(x) = \\operatorname*{argmax}_{c \\ \\in \\ C}  \\ P(c_j) \\cdot \\prod_{i = 1}^{784} p_{ji}^{x_i}(1 - p_{ji})^{1-x_i}$$\n",
    "\n",
    "We only have one adjustment left to make to $h(x)$. A product with a high number of small probabilities is problematic. It could be that this product is such a small result that a computer has difficulty representing them on its processor, a problem called arithmetic underflow. To remedy this, we can calculate the logarithm of these values. Similar to the fact that **we didn't have to compute the evidence** earlier in our objective function since $V_1 > V_2 \\implies \\frac{V_1}{c} > \\frac{V_2}{c}$ for a positive constant $c$, taking the logarithm of $P(c_j) \\cdot \\prod_{i = 1}{784}^p_{ji}{x_i}^{x_i}(1 - p_{ji})^{x_i}$ does not change its maximum value because the logarithm is a **monotonically increasing function**. Note that the direction of variation of a monotonic function is constant. So we have:\n",
    "\n",
    "$$h(x) = \\operatorname*{argmax}_{c \\ \\in \\ C}  \\ \\log(P(c_j) \\cdot \\prod_{i = 1}^{784} p_{ji}^{x_i}(1 - p_{ji})^{1-x_i}) = \\operatorname*{argmax}_{c \\ \\in \\ C}  \\ \\log(P(c_j)) + \\log(\\prod_{i = 1}^{784} p_{ji}^{x_i}(1 - p_{ji})^{1-x_i})$$\n",
    "\n",
    "$$= \\operatorname*{argmax}_{c \\ \\in \\ C}  \\ \\log(P(c_j)) + \\sum_{i = 1}^{784} \\log(p_{ji}^{x_i}(1 - p_{ji})^{1-x_i})$$\n",
    "\n",
    "$$= \\operatorname*{argmax}_{c \\ \\in \\ C}  \\ \\log(P(c_j)) + \\sum_{i = 1}^{784} (x_i \\cdot \\log(p_{ji})+(1-x_i)\\cdot \\log(1 - p_{ji}))$$\n",
    "\n",
    "We have the final form of our hypothesis function $h(x)$. Declare in the following cell a function `hypothesis()` that takes as argument a vector $x$ and returns $h(x)$."
   ]
  },
  {
   "cell_type": "code",
   "execution_count": null,
   "metadata": {},
   "outputs": [],
   "source": []
  },
  {
   "cell_type": "markdown",
   "metadata": {},
   "source": [
    "We can now classify our test set. Adjust `x_test` and `y_test` such that they are the same format as `x_train` and `y_train`. This means: \n",
    "* make them into binary"
   ]
  },
  {
   "cell_type": "code",
   "execution_count": null,
   "metadata": {},
   "outputs": [],
   "source": []
  },
  {
   "cell_type": "markdown",
   "metadata": {},
   "source": [
    "We can **finally** classify our test set. Just iterate our hypothesis function on the 10,000 vectors composing `x_test` by comparing the result with the corresponding value of `y_test` . It is useful to accumulate the error index in a list called `misclassifications`. That said, we will have to be **patient**."
   ]
  },
  {
   "cell_type": "code",
   "execution_count": null,
   "metadata": {},
   "outputs": [],
   "source": []
  },
  {
   "cell_type": "markdown",
   "metadata": {},
   "source": [
    "Then calculate our **error rate**, which is the percentage of errors obtained when classifying our \"training set\"."
   ]
  },
  {
   "cell_type": "code",
   "execution_count": null,
   "metadata": {},
   "outputs": [],
   "source": []
  },
  {
   "cell_type": "markdown",
   "metadata": {},
   "source": [
    "It is interesting to see **which images** our classifier has not classified correctly. Visualize one of the errors $x$ and compare it to $h(x)$. Is this an understandable mistake?"
   ]
  },
  {
   "cell_type": "code",
   "execution_count": null,
   "metadata": {},
   "outputs": [],
   "source": []
  },
  {
   "cell_type": "markdown",
   "metadata": {},
   "source": [
    "# Conclusion\n",
    "\n",
    "We have just completed this implementation of the naive Bayes classifier. Some relevant questions arise in relation to this exercise:\n",
    "\n",
    "1. If we hadn't rounded each pixel to a binary value, what **distribution** would we have used to model $P(x_{ji} = k), \\ 0 \\leq k \\leq 255?$ What **problem** would we have had if we had decided to include these probabilities in our model?\n",
    "\n",
    "2. Was the **Laplace smoothing** really necessary? What would have happened if we had not taken the smoothing into account? Is our $h(x)$ still valid? Also, what error rate indicates a model that doesn't work? Is it 100%?\n",
    "\n",
    "3. As mentioned earlier, calculating $\\log(h(x))$ is equivalent to calculating $h(x)$ since $\\log(x)$ is a **monotonically increasing** function. Could we use a **monotonically decreasing** function $f(x)$ to compute $f(h(x))$ and get the same result, or should we make a modification to our $h(x)$?\n",
    "\n",
    "### For maniacs\n",
    "\n",
    "This model uses the **naive** assumption that there is no correlation between the pixels in our images. There is a Gaussian variant of the Bayes classifier that takes this into account. The next step in this exercise would be to implement it. A word of encouragement: it reduces the error rate to less than 5%. See pages 8 to 14: http://www-inst.eecs.berkeley.edu/~cs70/sp15/notes/n21.pdf\n",
    "\n",
    "Cheers!\n",
    "\n",
    "Arnaud"
   ]
  }
 ],
 "metadata": {
  "jupytext": {
   "formats": "ipynb,md"
  },
  "kernelspec": {
   "display_name": "Python 3",
   "language": "python",
   "name": "python3"
  },
  "language_info": {
   "codemirror_mode": {
    "name": "ipython",
    "version": 3
   },
   "file_extension": ".py",
   "mimetype": "text/x-python",
   "name": "python",
   "nbconvert_exporter": "python",
   "pygments_lexer": "ipython3",
   "version": "3.7.6"
  }
 },
 "nbformat": 4,
 "nbformat_minor": 4
}
